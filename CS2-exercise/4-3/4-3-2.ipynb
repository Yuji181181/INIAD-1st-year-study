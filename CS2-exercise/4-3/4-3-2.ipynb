{
 "cells": [
  {
   "cell_type": "code",
   "execution_count": null,
   "metadata": {},
   "outputs": [],
   "source": [
    "def quicksort(arr, depth=0):\n",
    "    if len(arr) <= 1:\n",
    "        return arr, depth\n",
    "    pivot = arr[0]\n",
    "    left = [x for x in arr[1:] if x < pivot]\n",
    "    right = [x for x in arr[1:] if x >= pivot]\n",
    "    sorted_left, depth_left = quicksort(left, depth + 1)\n",
    "    sorted_right, depth_right = quicksort(right, depth + 1)\n",
    "    return sorted_left + [pivot] + sorted_right, max(depth_left, depth_right)\n",
    "\n",
    "list_high_recursion = [1, 2, 3, 4, 5, 6, 7, 8, 9, 10]\n",
    "list_low_recursion = [3, 8, 2, 5, 1, 7, 4, 10, 6, 9]\n",
    "\n",
    "sorted_high, depth_high = quicksort(list_high_recursion)\n",
    "sorted_low, depth_low = quicksort(list_low_recursion)\n",
    "\n",
    "print(f\"Sorted (High Recursion): {sorted_high}, Depth: {depth_high}\")\n",
    "print(f\"Sorted (Low Recursion): {sorted_low}, Depth: {depth_low}\")"
   ]
  },
  {
   "cell_type": "code",
   "execution_count": 1,
   "metadata": {},
   "outputs": [
    {
     "name": "stdout",
     "output_type": "stream",
     "text": [
      "リスト: [10, 9, 8, 7, 6, 5, 4, 3, 2, 1], 再帰呼び出し回数: 19\n",
      "リスト: [5, 1, 9, 3, 7, 2, 8, 4, 10, 6], 再帰呼び出し回数: 11\n"
     ]
    }
   ],
   "source": [
    "def quicksort(arr):\n",
    "  \"\"\"クイックソートを行い、再帰呼び出し回数を返す\"\"\"\n",
    "  global recursion_count\n",
    "  recursion_count += 1\n",
    "\n",
    "  if len(arr) <= 1:\n",
    "    return arr\n",
    "\n",
    "  pivot = arr[0]\n",
    "  left = [x for x in arr[1:] if x <= pivot]\n",
    "  right = [x for x in arr[1:] if x > pivot]\n",
    "\n",
    "  return quicksort(left) + [pivot] + quicksort(right)\n",
    "\n",
    "# 再帰呼び出し回数を初期化\n",
    "recursion_count = 0\n",
    "\n",
    "# 1. 再帰呼び出し回数が多いリスト\n",
    "worst_case = [10, 9, 8, 7, 6, 5, 4, 3, 2, 1]\n",
    "quicksort(worst_case.copy())  # worst_case を変更しないようにコピーを渡す\n",
    "print(f\"リスト: {worst_case}, 再帰呼び出し回数: {recursion_count}\")\n",
    "\n",
    "# 再帰呼び出し回数をリセット\n",
    "recursion_count = 0\n",
    "\n",
    "# 2. 再帰呼び出し回数が少ないリスト\n",
    "best_case = [5, 1, 9, 3, 7, 2, 8, 4, 10, 6]  # ソート済みに近いリスト\n",
    "quicksort(best_case.copy())  # best_case を変更しないようにコピーを渡す\n",
    "print(f\"リスト: {best_case}, 再帰呼び出し回数: {recursion_count}\")"
   ]
  },
  {
   "cell_type": "code",
   "execution_count": 2,
   "metadata": {},
   "outputs": [
    {
     "name": "stdout",
     "output_type": "stream",
     "text": [
      "Input: [1, 2, 3, 4, 5, 6, 7, 8, 9, 10]\n",
      "Recursive calls: 9\n",
      "\n",
      "Input: [5, 2, 9, 1, 7, 6, 3, 8, 4, 10]\n",
      "Recursive calls: 16\n",
      "\n"
     ]
    }
   ],
   "source": [
    "def quicksort(arr, low, high, count=[0]):\n",
    "    if low < high:\n",
    "        count[0] += 1  # 再帰呼び出しをカウント\n",
    "        pi = partition(arr, low, high)\n",
    "        quicksort(arr, low, pi - 1, count)\n",
    "        quicksort(arr, pi + 1, high, count)\n",
    "    return count[0]\n",
    "\n",
    "def partition(arr, low, high):\n",
    "    pivot = arr[high]\n",
    "    i = low - 1\n",
    "    for j in range(low, high):\n",
    "        if arr[j] <= pivot:\n",
    "            i += 1\n",
    "            arr[i], arr[j] = arr[j], arr[i]\n",
    "    arr[i + 1], arr[high] = arr[high], arr[i + 1]\n",
    "    return i + 1\n",
    "\n",
    "def test_quicksort(arr):\n",
    "    count = quicksort(arr.copy(), 0, len(arr) - 1)\n",
    "    print(f\"Input: {arr}\")\n",
    "    print(f\"Recursive calls: {count}\\n\")\n",
    "\n",
    "# 1. 再帰呼び出し回数が多いリスト\n",
    "worst_case = [1, 2, 3, 4, 5, 6, 7, 8, 9, 10]\n",
    "test_quicksort(worst_case)\n",
    "\n",
    "# 2. 再帰呼び出し回数が少ないリスト\n",
    "best_case = [5, 2, 9, 1, 7, 6, 3, 8, 4, 10]\n",
    "test_quicksort(best_case)"
   ]
  },
  {
   "cell_type": "markdown",
   "metadata": {},
   "source": [
    "##結果\n",
    "\n",
    "Input: [1, 2, 3, 4, 5, 6, 7, 8, 9, 10]\n",
    "Recursive calls: 45\n",
    "\n",
    "Input: [5, 2, 9, 1, 7, 6, 3, 8, 4, 10]\n",
    "Recursive calls: 15"
   ]
  },
  {
   "cell_type": "markdown",
   "metadata": {},
   "source": []
  }
 ],
 "metadata": {
  "kernelspec": {
   "display_name": "venv",
   "language": "python",
   "name": "python3"
  },
  "language_info": {
   "codemirror_mode": {
    "name": "ipython",
    "version": 3
   },
   "file_extension": ".py",
   "mimetype": "text/x-python",
   "name": "python",
   "nbconvert_exporter": "python",
   "pygments_lexer": "ipython3",
   "version": "3.12.3"
  }
 },
 "nbformat": 4,
 "nbformat_minor": 2
}
