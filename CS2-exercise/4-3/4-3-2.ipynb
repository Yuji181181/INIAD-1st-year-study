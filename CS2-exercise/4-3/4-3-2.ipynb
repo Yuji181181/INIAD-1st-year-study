{
 "cells": [
  {
   "cell_type": "code",
   "execution_count": null,
   "metadata": {},
   "outputs": [],
   "source": [
    "def quicksort(arr, depth=0):\n",
    "    if len(arr) <= 1:\n",
    "        return arr, depth\n",
    "    pivot = arr[0]\n",
    "    left = [x for x in arr[1:] if x < pivot]\n",
    "    right = [x for x in arr[1:] if x >= pivot]\n",
    "    sorted_left, depth_left = quicksort(left, depth + 1)\n",
    "    sorted_right, depth_right = quicksort(right, depth + 1)\n",
    "    return sorted_left + [pivot] + sorted_right, max(depth_left, depth_right)\n",
    "\n",
    "list_high_recursion = [1, 2, 3, 4, 5, 6, 7, 8, 9, 10]\n",
    "list_low_recursion = [3, 8, 2, 5, 1, 7, 4, 10, 6, 9]\n",
    "\n",
    "sorted_high, depth_high = quicksort(list_high_recursion)\n",
    "sorted_low, depth_low = quicksort(list_low_recursion)\n",
    "\n",
    "print(f\"Sorted (High Recursion): {sorted_high}, Depth: {depth_high}\")\n",
    "print(f\"Sorted (Low Recursion): {sorted_low}, Depth: {depth_low}\")"
   ]
  },
  {
   "cell_type": "code",
   "execution_count": null,
   "metadata": {},
   "outputs": [],
   "source": []
  }
 ],
 "metadata": {
  "kernelspec": {
   "display_name": "venv",
   "language": "python",
   "name": "python3"
  },
  "language_info": {
   "name": "python",
   "version": "3.12.3"
  }
 },
 "nbformat": 4,
 "nbformat_minor": 2
}
