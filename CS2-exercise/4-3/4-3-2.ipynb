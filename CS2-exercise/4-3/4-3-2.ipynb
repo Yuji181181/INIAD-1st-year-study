{
 "cells": [
  {
   "cell_type": "code",
   "execution_count": 7,
   "metadata": {},
   "outputs": [
    {
     "name": "stdout",
     "output_type": "stream",
     "text": [
      "data1:\n",
      "ソート結果: [1, 2, 3, 4, 5, 6, 7, 8, 9, 10]\n",
      "再帰呼び出し回数: 19\n",
      "ステップ数: 109\n",
      "\n",
      "data2:\n",
      "ソート結果: [1, 2, 3, 4, 5, 6, 7, 8, 9, 10]\n",
      "再帰呼び出し回数: 19\n",
      "ステップ数: 109\n",
      "\n",
      "data3:\n",
      "ソート結果: [1, 2, 3, 4, 5, 6, 7, 8, 9, 10]\n",
      "再帰呼び出し回数: 11\n",
      "ステップ数: 51\n",
      "\n",
      "data4:\n",
      "ソート結果: [1, 2, 3, 4, 5, 6, 7, 8, 9, 10]\n",
      "再帰呼び出し回数: 11\n",
      "ステップ数: 49\n",
      "\n"
     ]
    }
   ],
   "source": [
    "def quicksort(array, counts):\n",
    "    counts['calls'] += 1  # 再帰呼び出し回数をインクリメント\n",
    "    if len(array) <= 1:\n",
    "        counts['steps'] += 1  # 基底条件のチェック\n",
    "        return array\n",
    "    pivot = array[0]\n",
    "    counts['steps'] += 1  # ピボットの選択\n",
    "    left = []\n",
    "    right = []\n",
    "    for x in array[1:]:\n",
    "        counts['steps'] += 1  # 比較のステップ\n",
    "        if x <= pivot:\n",
    "            left.append(x)\n",
    "            counts['steps'] += 1  # 要素の追加\n",
    "        else:\n",
    "            right.append(x)\n",
    "            counts['steps'] += 1  # 要素の追加\n",
    "    return quicksort(left, counts) + [pivot] + quicksort(right, counts)\n",
    "\n",
    "# データセット\n",
    "data1 = [1,2,3,4,5,6,7,8,9,10]\n",
    "data2 = [10,9,8,7,6,5,4,3,2,1]\n",
    "data3 = [5,1,9,3,7,2,8,4,10,6]\n",
    "data4 = [5,2,9,1,7,6,3,8,4,10]\n",
    "\n",
    "# 計測関数\n",
    "def sort_and_count(data):\n",
    "    counts = {'calls': 0, 'steps': 0}\n",
    "    sorted_data = quicksort(data, counts)\n",
    "    print(f\"ソート結果: {sorted_data}\")\n",
    "    print(f\"再帰呼び出し回数: {counts['calls']}\")\n",
    "    print(f\"ステップ数: {counts['steps']}\\n\")\n",
    "\n",
    "# 各データセットに対する結果出力\n",
    "print(\"data1:\")\n",
    "sort_and_count(data1)\n",
    "\n",
    "print(\"data2:\")\n",
    "sort_and_count(data2)\n",
    "\n",
    "print(\"data3:\")\n",
    "sort_and_count(data3)\n",
    "\n",
    "print(\"data4:\")\n",
    "sort_and_count(data4)"
   ]
  },
  {
   "cell_type": "code",
   "execution_count": null,
   "metadata": {},
   "outputs": [],
   "source": []
  }
 ],
 "metadata": {
  "kernelspec": {
   "display_name": "venv",
   "language": "python",
   "name": "python3"
  },
  "language_info": {
   "codemirror_mode": {
    "name": "ipython",
    "version": 3
   },
   "file_extension": ".py",
   "mimetype": "text/x-python",
   "name": "python",
   "nbconvert_exporter": "python",
   "pygments_lexer": "ipython3",
   "version": "3.12.3"
  }
 },
 "nbformat": 4,
 "nbformat_minor": 2
}
