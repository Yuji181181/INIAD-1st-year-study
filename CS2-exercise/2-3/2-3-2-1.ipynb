{
 "cells": [
  {
   "cell_type": "code",
   "execution_count": 1,
   "metadata": {},
   "outputs": [],
   "source": [
    "import matplotlib.pyplot as plt\n",
    "import csv"
   ]
  },
  {
   "cell_type": "code",
   "execution_count": 2,
   "metadata": {},
   "outputs": [
    {
     "name": "stdout",
     "output_type": "stream",
     "text": [
      "['1', '11.1', '3.7', '7.1', '135.0']\n",
      "['2', '13.3', '4.0', '8.3', '15.0']\n",
      "['3', '16.0', '6.2', '10.7', '131.0']\n",
      "['4', '18.2', '7.9', '12.8', '296.5']\n",
      "['5', '24.0', '15.6', '19.5', '118.0']\n",
      "['6', '27.5', '19.8', '23.2', '212.5']\n",
      "['7', '27.7', '21.8', '24.3', '270.5']\n",
      "['8', '34.1', '25.3', '29.1', '61.5']\n",
      "['9', '28.1', '21.5', '24.2', '117.5']\n",
      "['10', '21.4', '14.4', '17.5', '205.0']\n",
      "['11', '18.6', '10.1', '14.0', '14.5']\n",
      "['12', '12.3', '3.7', '7.7', '13.0']\n"
     ]
    }
   ],
   "source": [
    "with open('weather_tokyo_2020.csv','r') as f:\n",
    "    reader = csv.reader(f)\n",
    "    for row in reader:\n",
    "        print(row)\n"
   ]
  },
  {
   "cell_type": "code",
   "execution_count": null,
   "metadata": {},
   "outputs": [],
   "source": []
  }
 ],
 "metadata": {
  "kernelspec": {
   "display_name": "venv",
   "language": "python",
   "name": "python3"
  },
  "language_info": {
   "codemirror_mode": {
    "name": "ipython",
    "version": 3
   },
   "file_extension": ".py",
   "mimetype": "text/x-python",
   "name": "python",
   "nbconvert_exporter": "python",
   "pygments_lexer": "ipython3",
   "version": "3.12.3"
  }
 },
 "nbformat": 4,
 "nbformat_minor": 2
}
