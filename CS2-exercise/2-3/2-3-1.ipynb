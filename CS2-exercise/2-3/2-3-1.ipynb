{
 "cells": [
  {
   "cell_type": "markdown",
   "metadata": {},
   "source": [
    "# 課題１\n",
    "以下の５つの関数について、1≦x≦8の区間のグラフを重ねて描画する\n",
    "\n",
    "- $y = x$\n",
    "- $y = x^2$\n",
    "- $y = 2^x$\n",
    "- $y = logx$\n",
    "- $y = xlogx$\n"
   ]
  },
  {
   "cell_type": "markdown",
   "metadata": {},
   "source": []
  }
 ],
 "metadata": {
  "language_info": {
   "name": "python"
  }
 },
 "nbformat": 4,
 "nbformat_minor": 2
}
