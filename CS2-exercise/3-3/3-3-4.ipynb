{
 "cells": [
  {
   "cell_type": "code",
   "execution_count": 1,
   "metadata": {},
   "outputs": [],
   "source": [
    "import turtle"
   ]
  },
  {
   "cell_type": "code",
   "execution_count": 2,
   "metadata": {},
   "outputs": [],
   "source": [
    "def koch(length, level):\n",
    "    if level == 0:\n",
    "        turtle.forward(length)\n",
    "    else:\n",
    "        length /= 3.0\n",
    "        koch(length, level-1)\n",
    "        turtle.left(60)\n",
    "        koch(length, level-1)\n",
    "        turtle.right(120)\n",
    "        koch(length, level-1)\n",
    "        turtle.left(60)\n",
    "        koch(length, level-1)\n",
    "\n",
    "# turtleの設定\n",
    "def main():\n",
    "    turtle.speed(0)  # 最速描画\n",
    "    turtle.penup()\n",
    "    turtle.goto(-200, 0)  # スタート位置を左にずらす\n",
    "    turtle.pendown()\n",
    "    \n",
    "    # レベルと長さを設定してコッホ曲線を描く\n",
    "    koch(400, 4)  # 長さ400、レベル4のコッホ曲線を描く\n",
    "    turtle.hideturtle()\n",
    "    turtle.done()\n",
    "\n",
    "if __name__ == \"__main__\":\n",
    "    main()\n"
   ]
  },
  {
   "cell_type": "code",
   "execution_count": null,
   "metadata": {},
   "outputs": [],
   "source": []
  }
 ],
 "metadata": {
  "kernelspec": {
   "display_name": "venv",
   "language": "python",
   "name": "python3"
  },
  "language_info": {
   "codemirror_mode": {
    "name": "ipython",
    "version": 3
   },
   "file_extension": ".py",
   "mimetype": "text/x-python",
   "name": "python",
   "nbconvert_exporter": "python",
   "pygments_lexer": "ipython3",
   "version": "3.12.3"
  }
 },
 "nbformat": 4,
 "nbformat_minor": 2
}
