{
 "cells": [
  {
   "cell_type": "code",
   "execution_count": 5,
   "metadata": {},
   "outputs": [],
   "source": [
    "import turtle"
   ]
  },
  {
   "cell_type": "code",
   "execution_count": null,
   "metadata": {},
   "outputs": [],
   "source": [
    "def koch(length, level):\n",
    "    if level == 0:\n",
    "        turtle.forward(length)\n",
    "    else:\n",
    "        length /= 3.0\n",
    "        koch(length, level-1)\n",
    "        turtle.left(60)\n",
    "        koch(length, level-1)\n",
    "        turtle.right(120)\n",
    "        koch(length, level-1)\n",
    "        turtle.left(60)\n",
    "        koch(length, level-1)\n",
    "\n",
    "def main():\n",
    "    turtle.speed(0)\n",
    "    turtle.penup()\n",
    "    turtle.goto(-200, 0)\n",
    "    turtle.pendown()\n",
    "    \n",
    "    koch(400, 4)\n",
    "    turtle.hideturtle()\n",
    "    turtle.done()\n",
    "\n",
    "if __name__ == \"__main__\":\n",
    "    main()\n"
   ]
  },
  {
   "cell_type": "code",
   "execution_count": null,
   "metadata": {},
   "outputs": [],
   "source": [
    "def koch(length, level):\n",
    "    if level == 0:\n",
    "        turtle.forward(length)\n",
    "    else:\n",
    "        length /= 3.0\n",
    "        koch(length, level-1)\n",
    "        turtle.left(60)\n",
    "        koch(length, level-1)\n",
    "        turtle.right(120)\n",
    "        koch(length, level-1)\n",
    "        turtle.left(60)\n",
    "        koch(length, level-1)\n",
    "\n",
    "def koch_snowflake(length, level):\n",
    "    for _ in range(3):\n",
    "        koch(length, level)\n",
    "        turtle.right(120)\n",
    "\n",
    "def main():\n",
    "    turtle.speed(0)\n",
    "    turtle.penup()\n",
    "    turtle.goto(-200, 100) \n",
    "    turtle.pendown()\n",
    "    \n",
    "    koch_snowflake(400, 4) \n",
    "    turtle.hideturtle()\n",
    "    turtle.done()\n",
    "\n",
    "if __name__ == \"__main__\":\n",
    "    main()\n"
   ]
  }
 ],
 "metadata": {
  "kernelspec": {
   "display_name": "venv",
   "language": "python",
   "name": "python3"
  },
  "language_info": {
   "codemirror_mode": {
    "name": "ipython",
    "version": 3
   },
   "file_extension": ".py",
   "mimetype": "text/x-python",
   "name": "python",
   "nbconvert_exporter": "python",
   "pygments_lexer": "ipython3",
   "version": "3.12.3"
  }
 },
 "nbformat": 4,
 "nbformat_minor": 2
}
