{
 "cells": [
  {
   "cell_type": "markdown",
   "id": "4739812d-6d1a-4dbb-aabf-cfd2dd00b9dd",
   "metadata": {},
   "source": [
    "#課題2\n",
    "##じゃんけんゲームを作ろう"
   ]
  },
  {
   "cell_type": "code",
   "execution_count": 1,
   "id": "66647898-79ad-4ea7-b448-58787833f380",
   "metadata": {},
   "outputs": [],
   "source": [
    "import random"
   ]
  },
  {
   "cell_type": "code",
   "execution_count": 2,
   "id": "5d0fa780-9aa7-44ea-812a-46868b517334",
   "metadata": {},
   "outputs": [],
   "source": [
    "def janken():\n",
    "    choices = [\"グー\", \"チョキ\", \"パー\"]\n",
    "    \n",
    "    while True:\n",
    "        try:\n",
    "            player_input = int(input(\"あなたは？(0:グー、1:チョキ、2:パー)\"))\n",
    "            if player_input not in [0, 1, 2]:\n",
    "                print(\"もう一度入力してください。\")\n",
    "                continue\n",
    "            player_choice = choices[player_input]\n",
    "            break\n",
    "        except ValueError:\n",
    "            print(\"無効な入力です。数字で入力してください。\")\n",
    "    \n",
    "    computer_choice = random.choice(choices)\n",
    "    if player_choice == computer_choice:\n",
    "        return \"引き分け\"\n",
    "    elif (player_choice == \"グー\" and computer_choice == \"チョキ\") or \\\n",
    "         (player_choice == \"チョキ\" and computer_choice == \"パー\") or \\\n",
    "         (player_choice == \"パー\" and computer_choice == \"グー\"):\n",
    "        return \"勝ち\"\n",
    "    else:\n",
    "        return \"負け\""
   ]
  },
  {
   "cell_type": "code",
   "execution_count": 3,
   "id": "69ab5079-93ea-413e-9466-c054b708083f",
   "metadata": {},
   "outputs": [
    {
     "name": "stdout",
     "output_type": "stream",
     "text": [
      "勝ち\n"
     ]
    }
   ],
   "source": [
    "print(janken())"
   ]
  }
 ],
 "metadata": {
  "kernelspec": {
   "display_name": "Python 3 (ipykernel)",
   "language": "python",
   "name": "python3"
  },
  "language_info": {
   "codemirror_mode": {
    "name": "ipython",
    "version": 3
   },
   "file_extension": ".py",
   "mimetype": "text/x-python",
   "name": "python",
   "nbconvert_exporter": "python",
   "pygments_lexer": "ipython3",
   "version": "3.12.3"
  }
 },
 "nbformat": 4,
 "nbformat_minor": 5
}
