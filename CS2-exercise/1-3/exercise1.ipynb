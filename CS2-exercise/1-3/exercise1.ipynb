{
 "cells": [
  {
   "cell_type": "markdown",
   "id": "1aba8b20-2860-4cca-bc7e-21b9f7699613",
   "metadata": {},
   "source": [
    "# 課題１\n",
    "-matplotlibをimportします\n",
    "-matplotlibのバージョンを出力します"
   ]
  },
  {
   "cell_type": "code",
   "execution_count": 1,
   "id": "25305fa6-20a8-440d-83b3-224c7f6e8003",
   "metadata": {},
   "outputs": [],
   "source": [
    "import matplotlib"
   ]
  },
  {
   "cell_type": "code",
   "execution_count": 2,
   "id": "a8390adf-b89b-420a-ae28-10c1615961e2",
   "metadata": {},
   "outputs": [
    {
     "name": "stdout",
     "output_type": "stream",
     "text": [
      "3.9.2\n"
     ]
    }
   ],
   "source": [
    "print(matplotlib.__version__)"
   ]
  }
 ],
 "metadata": {
  "kernelspec": {
   "display_name": "Python 3 (ipykernel)",
   "language": "python",
   "name": "python3"
  },
  "language_info": {
   "codemirror_mode": {
    "name": "ipython",
    "version": 3
   },
   "file_extension": ".py",
   "mimetype": "text/x-python",
   "name": "python",
   "nbconvert_exporter": "python",
   "pygments_lexer": "ipython3",
   "version": "3.12.3"
  }
 },
 "nbformat": 4,
 "nbformat_minor": 5
}
