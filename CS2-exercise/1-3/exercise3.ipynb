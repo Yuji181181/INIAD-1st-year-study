{
 "cells": [
  {
   "cell_type": "code",
   "execution_count": 1,
   "id": "9d1a235b-033b-4e41-b741-133e1b2e2316",
   "metadata": {},
   "outputs": [],
   "source": [
    "import random"
   ]
  },
  {
   "cell_type": "code",
   "execution_count": 2,
   "id": "b0c2864d-6a1a-440e-8ed2-3cf8ceedf004",
   "metadata": {},
   "outputs": [],
   "source": [
    "def janken():\n",
    "    choices = [\"グー\", \"チョキ\", \"パー\"]\n",
    "\n",
    "    player_wins = 0\n",
    "    computer_wins = 0\n",
    "    draws = 0\n",
    "\n",
    "    for i in range(5):\n",
    "        while True:\n",
    "            try:\n",
    "                player_input = int(input(\"0（グー）、1（チョキ）、2（パー）のどれかを選んでください: \"))\n",
    "                if player_input not in [0, 1, 2]:\n",
    "                    print(\"無効な入力です。\")\n",
    "                    continue\n",
    "                player_choice = choices[player_input]\n",
    "                break\n",
    "            except ValueError:\n",
    "                print(\"無効な入力です。数字で入力してください。\")\n",
    "\n",
    "        computer_choice = random.choice(choices)\n",
    "\n",
    "        if player_choice == computer_choice:\n",
    "            draws += 1\n",
    "            print(\"引き分け\")\n",
    "        elif (player_choice == \"グー\" and computer_choice == \"チョキ\") or \\\n",
    "            (player_choice == \"チョキ\" and computer_choice == \"パー\") or \\\n",
    "            (player_choice == \"パー\" and computer_choice == \"グー\"):\n",
    "            player_wins += 1\n",
    "            print(\"勝ち\")\n",
    "        else:\n",
    "            computer_wins += 1\n",
    "            print(\"負け\")\n",
    "\n",
    "    total_games = player_wins + computer_wins + draws\n",
    "    print(f\"\\n対戦結果:\")\n",
    "    print(f\"勝ち: {player_wins}\")\n",
    "    print(f\"負け: {computer_wins}\")\n",
    "    print(f\"引き分け: {draws}\")\n",
    "\n",
    "    if total_games == draws:\n",
    "        win_rate = 0\n",
    "    else:\n",
    "        win_rate = player_wins / (total_games - draws)\n",
    "\n",
    "    print(f\"勝率: {win_rate:.2f}\")"
   ]
  },
  {
   "cell_type": "code",
   "execution_count": 3,
   "id": "1bc6f90c-8e66-48bb-889d-b91e6086d17e",
   "metadata": {},
   "outputs": [
    {
     "name": "stdout",
     "output_type": "stream",
     "text": [
      "負け\n",
      "引き分け\n",
      "勝ち\n",
      "負け\n",
      "勝ち\n",
      "\n",
      "対戦結果:\n",
      "勝ち: 2\n",
      "負け: 2\n",
      "引き分け: 1\n",
      "勝率: 0.50\n",
      "None\n"
     ]
    }
   ],
   "source": [
    "print(janken())"
   ]
  }
 ],
 "metadata": {
  "kernelspec": {
   "display_name": "Python 3 (ipykernel)",
   "language": "python",
   "name": "python3"
  },
  "language_info": {
   "codemirror_mode": {
    "name": "ipython",
    "version": 3
   },
   "file_extension": ".py",
   "mimetype": "text/x-python",
   "name": "python",
   "nbconvert_exporter": "python",
   "pygments_lexer": "ipython3",
   "version": "3.12.3"
  }
 },
 "nbformat": 4,
 "nbformat_minor": 5
}
