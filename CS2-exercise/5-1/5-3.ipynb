{
 "cells": [
  {
   "cell_type": "code",
   "execution_count": 1,
   "metadata": {},
   "outputs": [
    {
     "name": "stdout",
     "output_type": "stream",
     "text": [
      "1\n",
      "2\n",
      "3\n"
     ]
    }
   ],
   "source": [
    "class Node:\n",
    "    def __init__(self, value):\n",
    "        self.value = value\n",
    "        self.left = None\n",
    "        self.right = None\n",
    "\n",
    "    def __str__(self): \n",
    "        return str(self.value)\n",
    "\n",
    "top = Node(1)\n",
    "node_l = Node(2)\n",
    "node_r = Node(3)\n",
    "top.left = node_l\n",
    "top.right = node_r\n",
    "\n",
    "print(top)          \n",
    "print(top.left)     \n",
    "print(top.right)    "
   ]
  },
  {
   "cell_type": "code",
   "execution_count": 2,
   "metadata": {},
   "outputs": [],
   "source": [
    "class TreeNode:\n",
    "    def __init__(self, value):\n",
    "        self.value = value\n",
    "        self.left = None\n",
    "        self.right = None\n",
    "\n",
    "def depth(top, x):\n",
    "    if top is None:\n",
    "        return -1\n",
    "    \n",
    "    if top.value == x:\n",
    "        return 0\n",
    "    \n",
    "    left_depth = depth(top.left, x)\n",
    "    if left_depth != -1:\n",
    "        return left_depth + 1\n",
    "    \n",
    "    right_depth = depth(top.right, x)\n",
    "    if right_depth != -1:\n",
    "        return right_depth + 1\n",
    "    \n",
    "    return -1"
   ]
  }
 ],
 "metadata": {
  "kernelspec": {
   "display_name": ".venv",
   "language": "python",
   "name": "python3"
  },
  "language_info": {
   "codemirror_mode": {
    "name": "ipython",
    "version": 3
   },
   "file_extension": ".py",
   "mimetype": "text/x-python",
   "name": "python",
   "nbconvert_exporter": "python",
   "pygments_lexer": "ipython3",
   "version": "3.12.3"
  }
 },
 "nbformat": 4,
 "nbformat_minor": 2
}
