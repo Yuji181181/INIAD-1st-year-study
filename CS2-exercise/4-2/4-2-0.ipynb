{
 "cells": [
  {
   "cell_type": "code",
   "execution_count": 1,
   "metadata": {},
   "outputs": [
    {
     "name": "stdout",
     "output_type": "stream",
     "text": [
      "0.46 ms\n"
     ]
    }
   ],
   "source": [
    "import math\n",
    "\n",
    "# 対数部分の計算\n",
    "n1 = 10000\n",
    "n2 = 5000\n",
    "log_n1 = math.log(n1)\n",
    "log_n2 = math.log(n2)\n",
    "\n",
    "# 比率の計算\n",
    "time_ratio = (n2 * log_n2) / (n1 * log_n1)\n",
    "\n",
    "# リスト長 5000 の場合の時間の計算\n",
    "time_5000 = 1 * time_ratio  # 1ms が基準\n",
    "\n",
    "print(f\"{time_5000:.2f} ms\")"
   ]
  },
  {
   "cell_type": "code",
   "execution_count": null,
   "metadata": {},
   "outputs": [],
   "source": []
  }
 ],
 "metadata": {
  "kernelspec": {
   "display_name": ".venv",
   "language": "python",
   "name": "python3"
  },
  "language_info": {
   "codemirror_mode": {
    "name": "ipython",
    "version": 3
   },
   "file_extension": ".py",
   "mimetype": "text/x-python",
   "name": "python",
   "nbconvert_exporter": "python",
   "pygments_lexer": "ipython3",
   "version": "3.12.3"
  }
 },
 "nbformat": 4,
 "nbformat_minor": 2
}
