{
 "cells": [
  {
   "cell_type": "code",
   "execution_count": 2,
   "metadata": {},
   "outputs": [],
   "source": [
    "def msort(lst):\n",
    "    if len(lst) <= 1:\n",
    "        return lst\n",
    "    lst1 = lst[:len(lst) // 2]\n",
    "    lst2 = lst[len(lst) // 2:]\n",
    "    \n",
    "    sorted_lst1 = msort(lst1)\n",
    "    sorted_lst2 = msort(lst2)\n",
    "    \n",
    "    return merge(sorted_lst1, sorted_lst2)\n",
    "\n",
    "def merge(lst1, lst2):\n",
    "    result = []\n",
    "    i = 0\n",
    "    j = 0\n",
    "    while i < len(lst1) and j < len(lst2):\n",
    "        if lst1[i] <= lst2[j]:\n",
    "            result.append(lst1[i])\n",
    "            i += 1\n",
    "        else:\n",
    "            result.append(lst2[j])\n",
    "            j += 1\n",
    "    while i < len(lst1):\n",
    "        result.append(lst1[i])\n",
    "        i += 1\n",
    "    while j < len(lst2):\n",
    "        result.append(lst2[j])\n",
    "        j += 1\n",
    "    print(\"Merged:\", result)\n",
    "    return result\n"
   ]
  },
  {
   "cell_type": "code",
   "execution_count": 6,
   "metadata": {},
   "outputs": [
    {
     "name": "stdout",
     "output_type": "stream",
     "text": [
      "Sorting リスト1:\n",
      "Merged: [1, 8]\n",
      "Merged: [2, 7]\n",
      "Merged: [1, 2, 7, 8]\n",
      "Merged: [5, 6]\n",
      "Merged: [3, 4]\n",
      "Merged: [3, 4, 5, 6]\n",
      "Merged: [1, 2, 3, 4, 5, 6, 7, 8]\n",
      "Final sorted リスト1: [1, 2, 3, 4, 5, 6, 7, 8]\n",
      "\n",
      "Sorting リスト2:\n",
      "Merged: [2, 10]\n",
      "Merged: [1, 8]\n",
      "Merged: [1, 5, 8]\n",
      "Merged: [1, 2, 5, 8, 10]\n",
      "Merged: [3, 4]\n",
      "Merged: [6, 9]\n",
      "Merged: [6, 7, 9]\n",
      "Merged: [3, 4, 6, 7, 9]\n",
      "Merged: [1, 2, 3, 4, 5, 6, 7, 8, 9, 10]\n",
      "Final sorted リスト2: [1, 2, 3, 4, 5, 6, 7, 8, 9, 10]\n"
     ]
    }
   ],
   "source": [
    "list1 = [8, 1, 2, 7, 5, 6, 3, 4]\n",
    "print(\"Sorting リスト1:\")\n",
    "sorted_list1 = msort(list1)\n",
    "print(\"Final sorted リスト1:\", sorted_list1)\n",
    "\n",
    "list2 = [10, 2, 5, 8, 1, 4, 3, 7, 9, 6]\n",
    "print(\"\\nSorting リスト2:\")\n",
    "sorted_list2 = msort(list2)\n",
    "print(\"Final sorted リスト2:\", sorted_list2)"
   ]
  },
  {
   "cell_type": "code",
   "execution_count": null,
   "metadata": {},
   "outputs": [],
   "source": []
  }
 ],
 "metadata": {
  "kernelspec": {
   "display_name": "venv",
   "language": "python",
   "name": "python3"
  },
  "language_info": {
   "codemirror_mode": {
    "name": "ipython",
    "version": 3
   },
   "file_extension": ".py",
   "mimetype": "text/x-python",
   "name": "python",
   "nbconvert_exporter": "python",
   "pygments_lexer": "ipython3",
   "version": "3.12.3"
  }
 },
 "nbformat": 4,
 "nbformat_minor": 2
}
