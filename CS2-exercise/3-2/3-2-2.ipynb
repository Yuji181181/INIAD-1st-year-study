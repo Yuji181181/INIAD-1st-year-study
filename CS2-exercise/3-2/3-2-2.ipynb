{
 "cells": [
  {
   "cell_type": "code",
   "execution_count": null,
   "metadata": {},
   "outputs": [],
   "source": [
    "def msort(lst):\n",
    "    if len(lst) <= 1:\n",
    "        return lst\n",
    "    lst1 = lst[:len(lst) // 2]\n",
    "    lst2 = lst[len(lst) // 2:]\n",
    "    \n",
    "    sorted_lst1 = msort(lst1)\n",
    "    sorted_lst2 = msort(lst2)\n",
    "    \n",
    "    return merge(sorted_lst1, sorted_lst2)\n",
    "\n",
    "def merge(lst1, lst2):\n",
    "    result = []\n",
    "    i = 0\n",
    "    j = 0\n",
    "    while i < len(lst1) and j < len(lst2):\n",
    "        if lst1[i] <= lst2[j]:\n",
    "            result.append(lst1[i])\n",
    "            i += 1\n",
    "        else:\n",
    "            result.append(lst2[j])\n",
    "            j += 1\n",
    "    while i < len(lst1):\n",
    "        result.append(lst1[i])\n",
    "        i += 1\n",
    "    while j < len(lst2):\n",
    "        result.append(lst2[j])\n",
    "        j += 1\n",
    "    return result\n"
   ]
  }
 ],
 "metadata": {
  "kernelspec": {
   "display_name": "venv",
   "language": "python",
   "name": "python3"
  },
  "language_info": {
   "name": "python",
   "version": "3.12.3"
  }
 },
 "nbformat": 4,
 "nbformat_minor": 2
}
