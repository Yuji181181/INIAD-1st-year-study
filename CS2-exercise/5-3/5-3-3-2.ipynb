{
 "cells": [
  {
   "cell_type": "code",
   "execution_count": 2,
   "metadata": {},
   "outputs": [],
   "source": [
    "from collections import deque"
   ]
  },
  {
   "cell_type": "code",
   "execution_count": 4,
   "metadata": {},
   "outputs": [
    {
     "name": "stdout",
     "output_type": "stream",
     "text": [
      "A さんのアトラクション訪問順序 deque([0, 1, 2])\n",
      "B さんのアトラクション訪問順序 deque([0, 1, 2])\n",
      "C さんのアトラクション訪問順序 deque([0, 1, 2])\n",
      "\n",
      "t= 0\n",
      "A さんはアトラクション 0 に並びました。\n",
      "B さんはアトラクション 0 に並びました。\n",
      "C さんはアトラクション 0 に並びました。\n",
      "\n",
      "t= 1\n",
      "A さんはアトラクション 1 に並びました。\n",
      "\n",
      "t= 2\n",
      "B さんはアトラクション 1 に並びました。\n",
      "A さんはアトラクション 2 に並びました。\n",
      "\n",
      "t= 3\n",
      "C さんはアトラクション 1 に並びました。\n",
      "B さんはアトラクション 2 に並びました。\n",
      "A さんはアトラクションを回り終えました。\n",
      "\n",
      "t= 4\n",
      "C さんはアトラクション 2 に並びました。\n",
      "B さんはアトラクションを回り終えました。\n",
      "\n",
      "t= 5\n",
      "C さんはアトラクションを回り終えました。\n",
      "\n",
      "終了時刻 5\n"
     ]
    }
   ],
   "source": [
    "attraction = [deque(),deque(),deque()]\n",
    "next_pool = deque()\n",
    "goal = deque()\n",
    "\n",
    "class Visitor:\n",
    "    def __init__(self,name,lst):\n",
    "        self.name = name\n",
    "        self.attr = deque(lst)\n",
    "\n",
    "a = Visitor(\"A\",[0,1,2])\n",
    "b = Visitor(\"B\",[0,1,2])\n",
    "c = Visitor(\"C\",[0,1,2])\n",
    "\n",
    "print(a.name,\"さんのアトラクション訪問順序\",a.attr)\n",
    "print(b.name,\"さんのアトラクション訪問順序\",b.attr)\n",
    "print(c.name,\"さんのアトラクション訪問順序\",c.attr)\n",
    "print(\"\")\n",
    "\n",
    "num_of_visitors = 3\n",
    "\n",
    "next_pool.append(a)\n",
    "next_pool.append(b)\n",
    "next_pool.append(c)\n",
    "\n",
    "def next_action(visitor):\n",
    "    if len(visitor.attr) > 0:\n",
    "        i = visitor.attr.popleft()\n",
    "        print(visitor.name,\"さんはアトラクション\",i,\"に並びました。\")\n",
    "        attraction[i].append(visitor)\n",
    "    else:\n",
    "        print(visitor.name,\"さんはアトラクションを回り終えました。\")\n",
    "        goal.append(visitor)\n",
    "\n",
    "for t in range(100):\n",
    "    print(\"t=\",t)\n",
    "\n",
    "    for i in range(len(attraction)):\n",
    "        if len(attraction[i]) > 0:\n",
    "            v = attraction[i].popleft()\n",
    "            next_pool.append(v)\n",
    "        \n",
    "    while len(next_pool) > 0:\n",
    "        v = next_pool.popleft()\n",
    "        next_action(v)\n",
    "        \n",
    "    print(\"\")\n",
    "    if len(goal) == num_of_visitors:\n",
    "        print(\"終了時刻\",t)\n",
    "        break\n"
   ]
  },
  {
   "cell_type": "code",
   "execution_count": 5,
   "metadata": {},
   "outputs": [],
   "source": [
    "##最小\n",
    "a = Visitor(\"A\",[0,1,2])\n",
    "b = Visitor(\"B\",[1,2,0])\n",
    "c = Visitor(\"C\",[2,0,1])"
   ]
  }
 ],
 "metadata": {
  "kernelspec": {
   "display_name": ".venv",
   "language": "python",
   "name": "python3"
  },
  "language_info": {
   "codemirror_mode": {
    "name": "ipython",
    "version": 3
   },
   "file_extension": ".py",
   "mimetype": "text/x-python",
   "name": "python",
   "nbconvert_exporter": "python",
   "pygments_lexer": "ipython3",
   "version": "3.12.3"
  }
 },
 "nbformat": 4,
 "nbformat_minor": 2
}
