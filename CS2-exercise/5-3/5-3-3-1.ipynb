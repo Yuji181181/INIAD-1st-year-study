{
 "cells": [
  {
   "cell_type": "code",
   "execution_count": 1,
   "metadata": {},
   "outputs": [],
   "source": [
    "from collections import deque"
   ]
  },
  {
   "cell_type": "code",
   "execution_count": null,
   "metadata": {},
   "outputs": [],
   "source": [
    "#テーマパークのアトラクションを複数扱えるように\n",
    "\n",
    "class Visitor:\n",
    "    def __init__(self,name,lst):\n",
    "        self.name = name\n",
    "        self.attr = deque(lst)\n",
    "\n",
    "a = Visitor(\"A\",[0,1,2])\n",
    "b = Visitor(\"B\",[0,1,2])\n",
    "c = Visitor(\"C\",[0,1,2])\n",
    "\n",
    "print(a.name,\"さんのアトラクション訪問順序\",a.attr)\n",
    "print(b.name,\"さんのアトラクション訪問順序\",b.attr)\n",
    "print(c.name,\"さんのアトラクション訪問順序\",c.attr)"
   ]
  }
 ],
 "metadata": {
  "kernelspec": {
   "display_name": ".venv",
   "language": "python",
   "name": "python3"
  },
  "language_info": {
   "codemirror_mode": {
    "name": "ipython",
    "version": 3
   },
   "file_extension": ".py",
   "mimetype": "text/x-python",
   "name": "python",
   "nbconvert_exporter": "python",
   "pygments_lexer": "ipython3",
   "version": "3.12.3"
  }
 },
 "nbformat": 4,
 "nbformat_minor": 2
}
