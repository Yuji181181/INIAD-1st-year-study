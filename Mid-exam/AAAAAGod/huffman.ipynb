{
 "cells": [
  {
   "cell_type": "code",
   "execution_count": 1,
   "metadata": {},
   "outputs": [
    {
     "ename": "ModuleNotFoundError",
     "evalue": "No module named 'graphviz'",
     "output_type": "error",
     "traceback": [
      "\u001b[1;31m---------------------------------------------------------------------------\u001b[0m",
      "\u001b[1;31mModuleNotFoundError\u001b[0m                       Traceback (most recent call last)",
      "Cell \u001b[1;32mIn[1], line 10\u001b[0m\n\u001b[0;32m      8\u001b[0m \u001b[38;5;28;01mimport\u001b[39;00m \u001b[38;5;21;01mheapq\u001b[39;00m\n\u001b[0;32m      9\u001b[0m \u001b[38;5;28;01mfrom\u001b[39;00m \u001b[38;5;21;01mcollections\u001b[39;00m \u001b[38;5;28;01mimport\u001b[39;00m defaultdict\n\u001b[1;32m---> 10\u001b[0m \u001b[38;5;28;01mfrom\u001b[39;00m \u001b[38;5;21;01mgraphviz\u001b[39;00m \u001b[38;5;28;01mimport\u001b[39;00m Digraph\n\u001b[0;32m     11\u001b[0m \u001b[38;5;28;01mimport\u001b[39;00m \u001b[38;5;21;01mos\u001b[39;00m\n\u001b[0;32m     12\u001b[0m \u001b[38;5;66;03m# Graphvizのインストールディレクトリを指定\u001b[39;00m\n",
      "\u001b[1;31mModuleNotFoundError\u001b[0m: No module named 'graphviz'"
     ]
    }
   ],
   "source": [
    "# ハフマンコードを作成する際に用いる木を描画するシステム\n",
    "# Jupyter環境での使用を推奨: (!pip install graphviz)\n",
    "# 使用するためにはPCにGraphvizのインストールが必須である\n",
    "# 数行下のパスは個人で指定する\n",
    "# \n",
    "# 使い方:\n",
    "# 下の方にある frequencies の中にそれぞれの確率を少数で書き込む\n",
    "import heapq\n",
    "from collections import defaultdict\n",
    "from graphviz import Digraph\n",
    "import os\n",
    "# Graphvizのインストールディレクトリを指定\n",
    "os.environ[\"PATH\"] += os.pathsep + r'C:\\Program Files\\Graphviz\\bin'\n",
    "class Node:\n",
    "    def __init__(self, char, freq):\n",
    "        self.char = char\n",
    "        self.freq = freq\n",
    "        self.left = None\n",
    "        self.right = None\n",
    "    \n",
    "    def __lt__(self, other):\n",
    "        return self.freq < other.freq\n",
    "def build_huffman_tree(frequencies):\n",
    "    heap = [Node(char, freq) for char, freq in frequencies.items()]\n",
    "    heapq.heapify(heap)\n",
    "    while len(heap) > 1:\n",
    "        left = heapq.heappop(heap)\n",
    "        right = heapq.heappop(heap)\n",
    "        merged = Node(None, left.freq + right.freq)\n",
    "        merged.left = left\n",
    "        merged.right = right\n",
    "        heapq.heappush(heap, merged)\n",
    "    return heap[0]\n",
    "def generate_codes(node, prefix=\"\", codebook={}):\n",
    "    if node is not None:\n",
    "        if node.char is not None:\n",
    "            codebook[node.char] = prefix\n",
    "        generate_codes(node.left, prefix + \"0\", codebook)\n",
    "        generate_codes(node.right, prefix + \"1\", codebook)\n",
    "    return codebook\n",
    "def visualize_huffman_tree(node, graph=None):\n",
    "    if graph is None:\n",
    "        graph = Digraph()\n",
    "    if node.char is not None:\n",
    "        graph.node(str(id(node)), label=f\"{node.char}:{node.freq}\")\n",
    "    else:\n",
    "        graph.node(str(id(node)), label=str(node.freq))\n",
    "    if node.left is not None:\n",
    "        graph.edge(str(id(node)), str(id(node.left)), label=\"0\")\n",
    "        visualize_huffman_tree(node.left, graph)\n",
    "    if node.right is not None:\n",
    "        graph.edge(str(id(node)), str(id(node.right)), label=\"1\")\n",
    "        visualize_huffman_tree(node.right, graph)\n",
    "    return graph\n",
    "frequencies = {\n",
    "    'A': 0.15,\n",
    "    'G': 0.25,\n",
    "    'C': 0.20,\n",
    "    'T': 0.40,\n",
    "}\n",
    "huffman_tree = build_huffman_tree(frequencies)\n",
    "codes = generate_codes(huffman_tree)\n",
    "tree_graph = visualize_huffman_tree(huffman_tree)\n",
    "tree_graph.render('huffman_tree', view=True, format='png')"
   ]
  },
  {
   "cell_type": "code",
   "execution_count": null,
   "metadata": {},
   "outputs": [],
   "source": []
  }
 ],
 "metadata": {
  "kernelspec": {
   "display_name": "Python 3",
   "language": "python",
   "name": "python3"
  },
  "language_info": {
   "codemirror_mode": {
    "name": "ipython",
    "version": 3
   },
   "file_extension": ".py",
   "mimetype": "text/x-python",
   "name": "python",
   "nbconvert_exporter": "python",
   "pygments_lexer": "ipython3",
   "version": "3.12.7"
  }
 },
 "nbformat": 4,
 "nbformat_minor": 2
}
