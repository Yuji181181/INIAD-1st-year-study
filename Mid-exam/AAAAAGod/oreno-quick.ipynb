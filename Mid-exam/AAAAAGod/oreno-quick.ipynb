{
 "cells": [
  {
   "cell_type": "code",
   "execution_count": 5,
   "metadata": {},
   "outputs": [
    {
     "name": "stdout",
     "output_type": "stream",
     "text": [
      "簡易版クイックソート (quick sort) / O(nlogn) ~ O(n^2)\n",
      "Loop 1. [3, 1, 2, 6, 4, 5, 7, 8] pivot. 7\n",
      "Loop 2. [1, 2, 3, 6, 4, 5, 7, 8] pivot. 3\n",
      "Loop 3. [1, 2, 3, 6, 4, 5, 7, 8] pivot. 1\n",
      "Loop 4. [1, 2, 3, 4, 5, 6, 7, 8] pivot. 6\n",
      "Loop 5. [1, 2, 3, 4, 5, 6, 7, 8] pivot. 4\n"
     ]
    }
   ],
   "source": [
    "# 簡易版クイックソート\n",
    "from collections import deque\n",
    "target = [7, 3, 8, 1, 2, 6, 4, 5] ##問題指定\n",
    "count = 0\n",
    "que = deque([[0, len(target)]])\n",
    "print(\"簡易版クイックソート (quick sort) / O(nlogn) ~ O(n^2)\")\n",
    "while len(que):\n",
    "    count += 1\n",
    "    q = que.popleft()\n",
    "    if q[t] == q[1]:\n",
    "        continue\n",
    "\n",
    "    pivot = target[q[t]]\n",
    "    lst1 = [x for x in target[q[t]:q[1]] if x < pivot]\n",
    "    lst2 = [x for x in target[q[t]:q[1]] if x == pivot]\n",
    "    lst3 = [x for x in target[q[t]:q[1]] if x > pivot]\n",
    "    target = target[:q[t]] + lst1 + lst2 + lst3 + target[q[1]:]\n",
    "\n",
    "    if 1 < len(lst1): que.append([q[t], q[t] + len(lst1)])\n",
    "    if 1 < len(lst2): que.append([q[t] + len(lst1), q[t] + len(lst1) + len(lst2)])\n",
    "    if 1 < len(lst3): que.append([q[t] + len(lst1) + len(lst2), q[1]])\n",
    "\n",
    "    t = 0  ##pivotの指定(０からスタート)\n",
    "\n",
    "    print(\"Loop {}. [{}]\".format(count, \", \".join(map(str, target))), \"pivot.\", pivot)"
   ]
  }
 ],
 "metadata": {
  "kernelspec": {
   "display_name": ".venv",
   "language": "python",
   "name": "python3"
  },
  "language_info": {
   "codemirror_mode": {
    "name": "ipython",
    "version": 3
   },
   "file_extension": ".py",
   "mimetype": "text/x-python",
   "name": "python",
   "nbconvert_exporter": "python",
   "pygments_lexer": "ipython3",
   "version": "3.12.3"
  }
 },
 "nbformat": 4,
 "nbformat_minor": 2
}
