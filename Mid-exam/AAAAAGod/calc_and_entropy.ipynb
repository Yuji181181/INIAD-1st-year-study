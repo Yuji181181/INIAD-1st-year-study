{
 "cells": [
  {
   "cell_type": "markdown",
   "id": "e4f95417-903f-492c-8de0-94a9f05c73f4",
   "metadata": {},
   "source": [
    "calc_infovalue(p)情報量の計算その事象が起きる確率を入れる。\n",
    "\n",
    "entropy(lst)確率のリストを入れる。\\\n",
    "例)晴れが1/2、曇りが1/4、雨が1/4のときの情報エントロピーを求めなさい\\\n",
    "この場合entropy([1/2, 1/4, 1/4])のように入れる。\n",
    "\n",
    "その他先頭にcalcがつく関数は計算時間見積もり用の関数。\\\n",
    "例)長さ 10000 の整数のリストを選択ソートでソートしたところ、 20ms かかったとする。 この時、長さ 5000 の整数のリストを、同じ選択ソートでソートすると、どの程度の時間がかかると考えられるか。 実行時間が最悪計算量に比例すると仮定し、見積りなさい。\\\n",
    "この場合、msは20、Q_valueは10000、A_valueは5000をcalc_select(20, 10000, 5000)のように入れる。"
   ]
  },
  {
   "cell_type": "markdown",
   "id": "36ce7d39",
   "metadata": {},
   "source": [
    "## エントロピー"
   ]
  },
  {
   "cell_type": "code",
   "execution_count": 20,
   "id": "32f43611-57b6-40a4-9d18-a2f0a5a0b2c8",
   "metadata": {},
   "outputs": [],
   "source": [
    "import math"
   ]
  },
  {
   "cell_type": "code",
   "execution_count": 21,
   "id": "0f80fd4b-761d-4d5a-8762-d6dde31a74d2",
   "metadata": {},
   "outputs": [],
   "source": [
    "def calc_infovalue(p):\n",
    "    return -1 * math.log2(p)"
   ]
  },
  {
   "cell_type": "code",
   "execution_count": 22,
   "id": "c9c62c86-09c5-44a1-b478-253199033fd9",
   "metadata": {},
   "outputs": [],
   "source": [
    "def entropy(lst):\n",
    "    return -sum(x * math.log2(x) for x in lst)"
   ]
  },
  {
   "cell_type": "code",
   "execution_count": 23,
   "id": "f03d69f9",
   "metadata": {},
   "outputs": [
    {
     "name": "stdout",
     "output_type": "stream",
     "text": [
      "2.4056390622295662\n"
     ]
    }
   ],
   "source": [
    "print(entropy([1/8, 1/8, 1/8, 1/8, 1/8, 3/8])) ##ここに確率を入力"
   ]
  },
  {
   "cell_type": "markdown",
   "id": "708e0f40",
   "metadata": {},
   "source": [
    "## 計算時間msの見積もり"
   ]
  },
  {
   "cell_type": "code",
   "execution_count": 24,
   "id": "d1a9494e-8428-4553-aeef-175f3f263d1f",
   "metadata": {},
   "outputs": [],
   "source": [
    "def calc_quick_ave(ms, Q_value, A_value):\n",
    "    return ms * ((A_value / Q_value) * (math.log(A_value) / math.log(Q_value)))"
   ]
  },
  {
   "cell_type": "code",
   "execution_count": 25,
   "id": "99eaa36e-2304-47b5-a8bf-4d2da8c58272",
   "metadata": {},
   "outputs": [],
   "source": [
    "def calc_quick_worst(ms, Q_value, A_value):\n",
    "    return ms * ((A_value / Q_value) ** 2)"
   ]
  },
  {
   "cell_type": "code",
   "execution_count": 26,
   "id": "58a9b725-ad4d-466e-88fe-5c5cb7420644",
   "metadata": {},
   "outputs": [],
   "source": [
    "def calc_select(ms, Q_value, A_value):\n",
    "    return ms * ((A_value / Q_value) ** 2)"
   ]
  },
  {
   "cell_type": "code",
   "execution_count": 27,
   "id": "1c516356-4b23-4a0a-9bf7-3447e1a9183c",
   "metadata": {},
   "outputs": [],
   "source": [
    "def calc_binary(ms, Q_value, A_value):\n",
    "    return ms * (math.log(A_value) / math.log(Q_value))"
   ]
  },
  {
   "cell_type": "code",
   "execution_count": 28,
   "id": "897055fd-193b-4c51-bd2a-09e0796e6a62",
   "metadata": {},
   "outputs": [],
   "source": [
    "def calc_marge(ms, Q_value, A_value):\n",
    "    return  ms * ((A_value / Q_value) * (math.log(A_value) / math.log(Q_value)))"
   ]
  },
  {
   "cell_type": "markdown",
   "id": "1f80d08d",
   "metadata": {},
   "source": [
    "## 例"
   ]
  },
  {
   "cell_type": "code",
   "execution_count": 29,
   "id": "8e00d659",
   "metadata": {},
   "outputs": [
    {
     "name": "stdout",
     "output_type": "stream",
     "text": [
      "8.0\n"
     ]
    }
   ],
   "source": [
    "print(calc_binary(10,100000,10000))"
   ]
  },
  {
   "cell_type": "code",
   "execution_count": null,
   "id": "27f0ea5e",
   "metadata": {},
   "outputs": [],
   "source": []
  }
 ],
 "metadata": {
  "kernelspec": {
   "display_name": ".venv",
   "language": "python",
   "name": "python3"
  },
  "language_info": {
   "codemirror_mode": {
    "name": "ipython",
    "version": 3
   },
   "file_extension": ".py",
   "mimetype": "text/x-python",
   "name": "python",
   "nbconvert_exporter": "python",
   "pygments_lexer": "ipython3",
   "version": "3.12.3"
  }
 },
 "nbformat": 4,
 "nbformat_minor": 5
}
