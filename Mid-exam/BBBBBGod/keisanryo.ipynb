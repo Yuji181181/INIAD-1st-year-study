{
 "cells": [
  {
   "cell_type": "code",
   "execution_count": 2,
   "metadata": {},
   "outputs": [
    {
     "name": "stdout",
     "output_type": "stream",
     "text": [
      "長さ 10000 のリストをソートするのにかかる時間は 3.9999999999999996 ms です\n"
     ]
    }
   ],
   "source": [
    "# 計算時間見積もり\n",
    "# 使い方:\n",
    "# ℓ27 に使用する計算量をオーダー表記で記入\n",
    "# ℓ28 に提示されているリストの長さとかかる時間(ms)を入力\n",
    "# ℓ29 に求める時間に対するリストの長さを入力\n",
    "import math\n",
    "\n",
    "def estimate_calc_time(complexity, data, input_size):\n",
    "    data_size, data_time = data\n",
    "    if complexity == \"O(1)\":\n",
    "        ratio = 1\n",
    "    elif complexity == \"O(n)\":\n",
    "        ratio = input_size / data_size\n",
    "    elif complexity == \"O(n^2)\":\n",
    "        ratio = (input_size / data_size) ** 2\n",
    "    elif complexity == \"O(logn)\":\n",
    "        ratio = math.log(input_size) / math.log(data_size)\n",
    "    elif complexity == \"O(nlogn)\":\n",
    "        ratio = (input_size * math.log(input_size)) / (data_size * math.log(data_size))\n",
    "    elif complexity == \"O(2^n)\":\n",
    "        ratio = (2 ** input_size) / (2 ** data_size)\n",
    "    else:\n",
    "        raise ValueError(\"この関数ではその計算量は想定されていません\")\n",
    "    \n",
    "    return data_time * ratio\n",
    "\n",
    "complexity = \"O(nlogn)\"\n",
    "data = [100000, 50]  #[長さ, ms]\n",
    "input_size = 10000 #長さ\n",
    "\n",
    "estimated_time = estimate_calc_time(complexity, data, input_size)\n",
    "print(f\"長さ {input_size} のリストをソートするのにかかる時間は {estimated_time} ms です\")"
   ]
  }
 ],
 "metadata": {
  "kernelspec": {
   "display_name": ".venv",
   "language": "python",
   "name": "python3"
  },
  "language_info": {
   "codemirror_mode": {
    "name": "ipython",
    "version": 3
   },
   "file_extension": ".py",
   "mimetype": "text/x-python",
   "name": "python",
   "nbconvert_exporter": "python",
   "pygments_lexer": "ipython3",
   "version": "3.12.3"
  }
 },
 "nbformat": 4,
 "nbformat_minor": 2
}
