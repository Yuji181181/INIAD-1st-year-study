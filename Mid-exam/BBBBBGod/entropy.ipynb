{
 "cells": [
  {
   "cell_type": "code",
   "execution_count": 1,
   "metadata": {},
   "outputs": [],
   "source": [
    "import math\n",
    "def entropy(ps):\n",
    "    result = 0\n",
    "    for p in ps:\n",
    "        result -= p * math.log2(p)\n",
    "        \n",
    "    return result"
   ]
  },
  {
   "cell_type": "code",
   "execution_count": 2,
   "metadata": {},
   "outputs": [
    {
     "name": "stdout",
     "output_type": "stream",
     "text": [
      "2.584962500721156\n",
      "2.1609640474436813\n",
      "1.4488156357251847\n"
     ]
    }
   ],
   "source": [
    "#サイコロの出目の確率 \n",
    "saikoro1 = [1/6,1/6,1/6,1/6,1/6,1/6]\n",
    "print(entropy(saikoro1))\n",
    "\n",
    "saikoro2 = [1/10,1/10,1/10,1/10,1/10,1/2]\n",
    "print(entropy(saikoro2))\n",
    "\n",
    "tenki = [3/7,3/7,1/7]\n",
    "print(entropy(tenki))"
   ]
  }
 ],
 "metadata": {
  "kernelspec": {
   "display_name": ".venv",
   "language": "python",
   "name": "python3"
  },
  "language_info": {
   "codemirror_mode": {
    "name": "ipython",
    "version": 3
   },
   "file_extension": ".py",
   "mimetype": "text/x-python",
   "name": "python",
   "nbconvert_exporter": "python",
   "pygments_lexer": "ipython3",
   "version": "3.12.3"
  }
 },
 "nbformat": 4,
 "nbformat_minor": 2
}
