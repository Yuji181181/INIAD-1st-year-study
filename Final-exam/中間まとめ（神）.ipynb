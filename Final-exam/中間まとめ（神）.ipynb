{
 "cells": [
  {
   "cell_type": "markdown",
   "metadata": {},
   "source": [
    "## 計算式の木"
   ]
  },
  {
   "cell_type": "code",
   "execution_count": 39,
   "metadata": {},
   "outputs": [
    {
     "name": "stdout",
     "output_type": "stream",
     "text": [
      "後置記法から前置記法: / * - 3 1 + 7 2 - 8 2\n",
      "後置記法から中置記法: (((3 - 1) * (7 + 2)) / (8 - 2))\n"
     ]
    }
   ],
   "source": [
    "import re\n",
    " \n",
    "class Node:\n",
    "    def __init__(self, value):\n",
    "        self.value = value\n",
    "        self.left = None\n",
    "        self.right = None\n",
    " \n",
    " \n",
    "# 演算子の優先順位を定義\n",
    "def precedence(op):\n",
    "    if op in ('+', '-'):\n",
    "        return 1\n",
    "    if op in ('*', '/'):\n",
    "        return 2\n",
    "    return 0\n",
    " \n",
    " \n",
    "# 式をトークン化（カッコや数値、演算子を分離）\n",
    "def tokenize(expression):\n",
    "    return re.findall(r'\\d+|\\+|\\-|\\*|\\/|\\(|\\)', expression)\n",
    " \n",
    " \n",
    "# 中置記法の式を構文木に変換\n",
    "def build_tree_from_infix(expression):\n",
    "    tokens = tokenize(expression)\n",
    "    values = []  # 数値や部分木を格納するスタック\n",
    "    operators = []  # 演算子を格納するスタック\n",
    " \n",
    "    def apply_operator():\n",
    "        operator = operators.pop()\n",
    "        right = values.pop()\n",
    "        left = values.pop()\n",
    "        node = Node(operator)\n",
    "        node.left = left\n",
    "        node.right = right\n",
    "        values.append(node)\n",
    " \n",
    "    for token in tokens:\n",
    "        if token.isdigit():  # 数値\n",
    "            values.append(Node(token))\n",
    "        elif token in ('+', '-', '*', '/'):  # 演算子\n",
    "            while operators and operators[-1] != '(' and precedence(operators[-1]) >= precedence(token):\n",
    "                apply_operator()\n",
    "            operators.append(token)\n",
    "        elif token == '(':  # 開き括弧\n",
    "            operators.append(token)\n",
    "        elif token == ')':  # 閉じ括弧\n",
    "            while operators and operators[-1] != '(':\n",
    "                apply_operator()\n",
    "            operators.pop()  # '(' を除去\n",
    " \n",
    "    while operators:  # 残りの演算子を適用\n",
    "        apply_operator()\n",
    " \n",
    "    return values[0]\n",
    " \n",
    "# 前置記法から構文木を構築\n",
    "def build_tree_from_prefix(expression):\n",
    "    tokens = expression.split()\n",
    "    stack = []\n",
    " \n",
    "    # トークンを逆順に処理\n",
    "    for token in reversed(tokens):\n",
    "        if token.isdigit():  # 数値はそのままスタックに追加\n",
    "            stack.append(Node(token))\n",
    "        else:  # 演算子の場合、右と左をポップしてノードを構築\n",
    "            left = stack.pop()\n",
    "            right = stack.pop()\n",
    "            node = Node(token)\n",
    "            node.left = left\n",
    "            node.right = right\n",
    "            stack.append(node)\n",
    " \n",
    "    return stack.pop()  # 最後にスタックに残ったノードがルート\n",
    " \n",
    "# 後置記法から構文木を構築\n",
    "def build_tree_from_postfix(expression):\n",
    "    tokens = expression.split()\n",
    "    stack = []\n",
    " \n",
    "    for token in tokens:\n",
    "        if token.isdigit():  # 数値はそのままスタックに追加\n",
    "            stack.append(Node(token))\n",
    "        else:  # 演算子の場合、スタックから右と左をポップしてノードを構築\n",
    "            right = stack.pop()\n",
    "            left = stack.pop()\n",
    "            node = Node(token)\n",
    "            node.left = left\n",
    "            node.right = right\n",
    "            stack.append(node)\n",
    " \n",
    "    return stack.pop()  # 最後にスタックに残ったノードがルート\n",
    " \n",
    "# 構文木を中置記法に変換\n",
    "def to_infix(node):\n",
    "    if not node:\n",
    "        return \"\"\n",
    "    if not node.left and not node.right:  # 葉ノード\n",
    "        return node.value\n",
    "    left = to_infix(node.left)\n",
    "    right = to_infix(node.right)\n",
    "    return f\"({left} {node.value} {right})\"\n",
    " \n",
    " \n",
    "# 構文木を前置記法に変換\n",
    "def to_prefix(node):\n",
    "    if not node:\n",
    "        return \"\"\n",
    "    return f\"{node.value} {to_prefix(node.left)} {to_prefix(node.right)}\".strip()\n",
    " \n",
    " \n",
    "# 構文木を後置記法に変換\n",
    "def to_postfix(node):\n",
    "    if not node:\n",
    "        return \"\"\n",
    "    return f\"{to_postfix(node.left)} {to_postfix(node.right)} {node.value}\".strip()\n",
    " \n",
    " \n",
    "# 主関数：記法変換を行う\n",
    "def convert(expression, input_type, output_type):\n",
    "    # 構文木を構築\n",
    "    if input_type == \"infix\":\n",
    "        tree = build_tree_from_infix(expression)\n",
    "    elif input_type == \"postfix\":\n",
    "        tree = build_tree_from_postfix(expression)\n",
    "    elif input_type == \"prefix\":\n",
    "        tree = build_tree_from_prefix(expression)\n",
    "    else:\n",
    "        raise ValueError(\"不明な入力形式です。\")\n",
    " \n",
    "    # 指定された形式に変換\n",
    "    if output_type == \"infix\":\n",
    "        return to_infix(tree)\n",
    "    elif output_type == \"prefix\":\n",
    "        return to_prefix(tree)\n",
    "    elif output_type == \"postfix\":\n",
    "        return to_postfix(tree)\n",
    "    else:\n",
    "        raise ValueError(\"不明な出力形式です。\")\n",
    " \n",
    " \n",
    "if __name__ == \"__main__\":\n",
    "    # 入力例\n",
    "    select = 3  # 1: 中置記法から変換, 2: 前置記法から変換, 3: 後置記法から変換\n",
    "    prob = \"3 1 - 7 2 + * 8 2 - / \"  # 問題文\n",
    " \n",
    "    if select == 1:\n",
    "        # 中置記法から前置記法と後置記法への変換\n",
    "        print(\"中置記法から前置記法:\", convert(prob, \"infix\", \"prefix\"))\n",
    "        print(\"中置記法から後置記法:\", convert(prob, \"infix\", \"postfix\"))\n",
    "    elif select == 2:\n",
    "        # 前置記法から後置記法と中置記法への変換\n",
    "        print(\"前置記法から後置記法:\", convert(prob, \"prefix\", \"postfix\"))\n",
    "        print(\"前置記法から中置記法:\", convert(prob, \"prefix\", \"infix\"))\n",
    "    elif select == 3:\n",
    "        # 後置記法から前置記法と中置記法への変換\n",
    "        print(\"後置記法から前置記法:\", convert(prob, \"postfix\", \"prefix\"))\n",
    "        print(\"後置記法から中置記法:\", convert(prob, \"postfix\", \"infix\"))"
   ]
  },
  {
   "cell_type": "code",
   "execution_count": 2,
   "metadata": {},
   "outputs": [
    {
     "name": "stdout",
     "output_type": "stream",
     "text": [
      "Collecting graphviz\n",
      "  Downloading graphviz-0.20.3-py3-none-any.whl.metadata (12 kB)\n",
      "Downloading graphviz-0.20.3-py3-none-any.whl (47 kB)\n",
      "Installing collected packages: graphviz\n",
      "Successfully installed graphviz-0.20.3\n"
     ]
    },
    {
     "name": "stderr",
     "output_type": "stream",
     "text": [
      "\n",
      "[notice] A new release of pip is available: 24.2 -> 24.3.1\n",
      "[notice] To update, run: python.exe -m pip install --upgrade pip\n"
     ]
    }
   ],
   "source": [
    "!pip install graphviz"
   ]
  },
  {
   "cell_type": "markdown",
   "metadata": {},
   "source": [
    "## ハフマン"
   ]
  },
  {
   "cell_type": "code",
   "execution_count": 1,
   "metadata": {},
   "outputs": [
    {
     "ename": "ModuleNotFoundError",
     "evalue": "No module named 'graphviz'",
     "output_type": "error",
     "traceback": [
      "\u001b[1;31m---------------------------------------------------------------------------\u001b[0m",
      "\u001b[1;31mModuleNotFoundError\u001b[0m                       Traceback (most recent call last)",
      "Cell \u001b[1;32mIn[1], line 10\u001b[0m\n\u001b[0;32m      8\u001b[0m \u001b[38;5;28;01mimport\u001b[39;00m \u001b[38;5;21;01mheapq\u001b[39;00m\n\u001b[0;32m      9\u001b[0m \u001b[38;5;28;01mfrom\u001b[39;00m \u001b[38;5;21;01mcollections\u001b[39;00m \u001b[38;5;28;01mimport\u001b[39;00m defaultdict\n\u001b[1;32m---> 10\u001b[0m \u001b[38;5;28;01mfrom\u001b[39;00m \u001b[38;5;21;01mgraphviz\u001b[39;00m \u001b[38;5;28;01mimport\u001b[39;00m Digraph\n\u001b[0;32m     11\u001b[0m \u001b[38;5;28;01mimport\u001b[39;00m \u001b[38;5;21;01mos\u001b[39;00m\n\u001b[0;32m     14\u001b[0m \u001b[38;5;66;03m# Graphvizのインストールディレクトリを指定\u001b[39;00m\n",
      "\u001b[1;31mModuleNotFoundError\u001b[0m: No module named 'graphviz'"
     ]
    }
   ],
   "source": [
    "# ハフマンコードを作成する際に用いる木を描画するシステム\n",
    "# Jupyter環境での使用を推奨: (!pip install graphviz)\n",
    "# 使用するためにはPCにGraphvizのインストールが必須である\n",
    "# 数行下のパスは個人で指定する\n",
    "# \n",
    "# 使い方:\n",
    "# 下の方にある frequencies の中にそれぞれの確率を少数で書き込む\n",
    "import heapq\n",
    "from collections import defaultdict\n",
    "from graphviz import Digraph\n",
    "import os\n",
    "\n",
    "\n",
    "# Graphvizのインストールディレクトリを指定\n",
    "os.environ[\"PATH\"] += os.pathsep + r'C:\\Program Files\\Graphviz\\bin'\n",
    "\n",
    "class Node:\n",
    "    def __init__(self, char, freq):\n",
    "        self.char = char\n",
    "        self.freq = freq\n",
    "        self.left = None\n",
    "        self.right = None\n",
    "    \n",
    "    def __lt__(self, other):\n",
    "        return self.freq < other.freq\n",
    "\n",
    "def build_huffman_tree(frequencies):\n",
    "    heap = [Node(char, freq) for char, freq in frequencies.items()]\n",
    "    heapq.heapify(heap)\n",
    "\n",
    "    while len(heap) > 1:\n",
    "        left = heapq.heappop(heap)\n",
    "        right = heapq.heappop(heap)\n",
    "        merged = Node(None, left.freq + right.freq)\n",
    "        merged.left = left\n",
    "        merged.right = right\n",
    "        heapq.heappush(heap, merged)\n",
    "\n",
    "    return heap[0]\n",
    "\n",
    "def generate_codes(node, prefix=\"\", codebook={}):\n",
    "    if node is not None:\n",
    "        if node.char is not None:\n",
    "            codebook[node.char] = prefix\n",
    "        generate_codes(node.left, prefix + \"0\", codebook)\n",
    "        generate_codes(node.right, prefix + \"1\", codebook)\n",
    "    return codebook\n",
    "\n",
    "def visualize_huffman_tree(node, graph=None):\n",
    "    if graph is None:\n",
    "        graph = Digraph()\n",
    "\n",
    "    if node.char is not None:\n",
    "        graph.node(str(id(node)), label=f\"{node.char}:{node.freq}\")\n",
    "    else:\n",
    "        graph.node(str(id(node)), label=str(node.freq))\n",
    "\n",
    "    if node.left is not None:\n",
    "        graph.edge(str(id(node)), str(id(node.left)), label=\"0\")\n",
    "        visualize_huffman_tree(node.left, graph)\n",
    "\n",
    "    if node.right is not None:\n",
    "        graph.edge(str(id(node)), str(id(node.right)), label=\"1\")\n",
    "        visualize_huffman_tree(node.right, graph)\n",
    "\n",
    "    return graph\n",
    "\n",
    "frequencies = {\n",
    "    'A': 0.40,\n",
    "    'D': 0.15,\n",
    "    'H': 0.05,\n",
    "    'N': 0.05,\n",
    "    'P': 0.10,\n",
    "    'R': 0.25,\n",
    "}\n",
    "\n",
    "huffman_tree = build_huffman_tree(frequencies)\n",
    "codes = generate_codes(huffman_tree)\n",
    "\n",
    "tree_graph = visualize_huffman_tree(huffman_tree)\n",
    "tree_graph.render('huffman_tree', view=True, format='png')"
   ]
  },
  {
   "cell_type": "markdown",
   "metadata": {},
   "source": [
    "## 計算時間"
   ]
  },
  {
   "cell_type": "code",
   "execution_count": 37,
   "metadata": {},
   "outputs": [
    {
     "name": "stdout",
     "output_type": "stream",
     "text": [
      "長さ 10000 のリストをソートするのにかかる時間は 3.9999999999999996 ms です\n"
     ]
    }
   ],
   "source": [
    "# 計算時間見積もり\n",
    "# 使い方:\n",
    "# ℓ27 に使用する計算量をオーダー表記で記入\n",
    "# ℓ28 に提示されているリストの長さとかかる時間(ms)を入力\n",
    "# ℓ29 に求める時間に対するリストの長さを入力\n",
    "import math\n",
    "\n",
    "def estimate_calc_time(complexity, data, input_size):\n",
    "    data_size, data_time = data\n",
    "    if complexity == \"O(1)\":\n",
    "        ratio = 1\n",
    "    elif complexity == \"O(n)\":\n",
    "        ratio = input_size / data_size\n",
    "    elif complexity == \"O(n^2)\":\n",
    "        ratio = (input_size / data_size) ** 2\n",
    "    elif complexity == \"O(logn)\":\n",
    "        ratio = math.log(input_size) / math.log(data_size)\n",
    "    elif complexity == \"O(nlogn)\":\n",
    "        ratio = (input_size * math.log(input_size)) / (data_size * math.log(data_size))\n",
    "    elif complexity == \"O(2^n)\":\n",
    "        ratio = (2 ** input_size) / (2 ** data_size)\n",
    "    else:\n",
    "        raise ValueError(\"この関数ではその計算量は想定されていません\")\n",
    "    \n",
    "    return data_time * ratio\n",
    "\n",
    "complexity = \"O(nlogn)\"\n",
    "data = [100000, 50]  #[長さ, ms]\n",
    "input_size = 10000 #長さ\n",
    "\n",
    "estimated_time = estimate_calc_time(complexity, data, input_size)\n",
    "print(f\"長さ {input_size} のリストをソートするのにかかる時間は {estimated_time} ms です\")"
   ]
  },
  {
   "cell_type": "markdown",
   "metadata": {},
   "source": [
    "## マージソート"
   ]
  },
  {
   "cell_type": "code",
   "execution_count": 18,
   "metadata": {},
   "outputs": [],
   "source": [
    "def merge_sort(arr):\n",
    "    if len(arr) <= 1:\n",
    "        return arr\n",
    "    \n",
    "    mid = len(arr) // 2\n",
    "    left_half = merge_sort(arr[:mid])\n",
    "    right_half = merge_sort(arr[mid:])\n",
    "    \n",
    "    return merge(left_half, right_half)\n",
    "\n",
    "def merge(left, right):\n",
    "    sorted_list = []\n",
    "    while left and right:\n",
    "        if left[0] <= right[0]:\n",
    "            sorted_list.append(left.pop(0))\n",
    "        else:\n",
    "            sorted_list.append(right.pop(0))\n",
    "    sorted_list.extend(left or right)\n",
    "    print(sorted_list)\n",
    "    return sorted_list"
   ]
  },
  {
   "cell_type": "code",
   "execution_count": 19,
   "metadata": {},
   "outputs": [
    {
     "name": "stdout",
     "output_type": "stream",
     "text": [
      "[4, 9]\n",
      "[3, 7]\n",
      "[3, 4, 7, 9]\n",
      "[2, 5]\n",
      "[1, 8]\n",
      "[1, 2, 5, 8]\n",
      "[1, 2, 3, 4, 5, 7, 8, 9]\n"
     ]
    },
    {
     "data": {
      "text/plain": [
       "[1, 2, 3, 4, 5, 7, 8, 9]"
      ]
     },
     "execution_count": 19,
     "metadata": {},
     "output_type": "execute_result"
    }
   ],
   "source": [
    "merge_sort([9, 4, 7, 3, 5, 2, 8, 1])"
   ]
  },
  {
   "cell_type": "markdown",
   "metadata": {},
   "source": [
    "## クイックソート"
   ]
  },
  {
   "cell_type": "code",
   "execution_count": 22,
   "metadata": {},
   "outputs": [],
   "source": [
    "def simple_qsort(lst):\n",
    "      if len(lst) <= 1:\n",
    "        return lst\n",
    "      pivot = lst[0]\n",
    "      print(pivot)\n",
    "\n",
    "      lst1 = [x for x in lst if x < pivot]\n",
    "      lst2 = [x for x in lst if x == pivot]\n",
    "      lst3 = [x for x in lst if x > pivot]\n",
    "\n",
    "      return simple_qsort(lst1) + lst2 + simple_qsort(lst3)"
   ]
  },
  {
   "cell_type": "code",
   "execution_count": 23,
   "metadata": {},
   "outputs": [
    {
     "name": "stdout",
     "output_type": "stream",
     "text": [
      "9\n",
      "4\n",
      "3\n",
      "2\n",
      "7\n"
     ]
    },
    {
     "data": {
      "text/plain": [
       "[1, 2, 3, 4, 5, 7, 8, 9]"
      ]
     },
     "execution_count": 23,
     "metadata": {},
     "output_type": "execute_result"
    }
   ],
   "source": [
    "simple_qsort([9, 4, 7, 3, 5, 2, 8, 1 ])"
   ]
  },
  {
   "cell_type": "markdown",
   "metadata": {},
   "source": [
    "## hukasa"
   ]
  },
  {
   "cell_type": "code",
   "execution_count": 42,
   "metadata": {},
   "outputs": [
    {
     "name": "stdout",
     "output_type": "stream",
     "text": [
      "A\n",
      "B\n",
      "D\n",
      "G\n",
      "C\n",
      "E\n",
      "F\n"
     ]
    }
   ],
   "source": [
    "def dfs(graph, node, visited):\n",
    "    if node not in visited:\n",
    "        print(node)\n",
    "        visited.add(node)\n",
    "        for neighbor in graph[node]:\n",
    "            dfs(graph, neighbor, visited)\n",
    "\n",
    "graph = {\n",
    "    'A': ['B', 'D'],\n",
    "    'B': [],\n",
    "    'C': ['A', 'B', 'D', 'E'],\n",
    "    'D': ['G'],\n",
    "    'E': ['B',],\n",
    "    'F': ['C', 'E'],\n",
    "    'G': ['C', 'F']\n",
    "}\n",
    "\n",
    "visited = set()\n",
    "dfs(graph, 'A', visited)"
   ]
  },
  {
   "cell_type": "markdown",
   "metadata": {},
   "source": [
    "## haba"
   ]
  },
  {
   "cell_type": "code",
   "execution_count": 11,
   "metadata": {},
   "outputs": [
    {
     "name": "stdout",
     "output_type": "stream",
     "text": [
      "A\n",
      "B\n",
      "C\n",
      "D\n",
      "E\n",
      "F\n"
     ]
    }
   ],
   "source": [
    "from collections import deque\n",
    "\n",
    "def bfs(graph, start):\n",
    "    visited = set()\n",
    "    queue = deque([start])\n",
    "    visited.add(start)\n",
    "\n",
    "    while queue:\n",
    "        node = queue.popleft()\n",
    "        print(node)\n",
    "\n",
    "        for neighbor in graph[node]:\n",
    "            if neighbor not in visited:\n",
    "                visited.add(neighbor)\n",
    "                queue.append(neighbor)\n",
    "\n",
    "graph = {\n",
    "    'A': ['B', 'C'],\n",
    "    'B': ['A', 'D', 'E'],\n",
    "    'C': ['A', 'F'],\n",
    "    'D': ['B'],\n",
    "    'E': ['B', 'F'],\n",
    "    'F': ['C', 'E']\n",
    "}\n",
    "\n",
    "bfs(graph, 'A')"
   ]
  },
  {
   "cell_type": "markdown",
   "metadata": {},
   "source": [
    "## エントロピー"
   ]
  },
  {
   "cell_type": "code",
   "execution_count": 34,
   "metadata": {},
   "outputs": [
    {
     "name": "stdout",
     "output_type": "stream",
     "text": [
      "3.0\n"
     ]
    }
   ],
   "source": [
    "import math\n",
    "def entropy(ps):\n",
    "    result = 0\n",
    "    for p in ps:\n",
    "        result -= p * math.log2(p)\n",
    "        \n",
    "    return result\n",
    "\n",
    "ps_kakuritu = [1/8, 1/8, 1/8, 1/8, 1/8, 1/8, 1/8, 1/8]\n",
    "\n",
    "print(entropy(ps_kakuritu))"
   ]
  },
  {
   "cell_type": "code",
   "execution_count": 13,
   "metadata": {},
   "outputs": [
    {
     "name": "stdout",
     "output_type": "stream",
     "text": [
      "ここに文字列データを入力:  GAAGAA\n"
     ]
    },
    {
     "name": "stdout",
     "output_type": "stream",
     "text": [
      "A: 1\n",
      "G: 0\n",
      "平均符号長: 1.0\n",
      "符号化後のビット列: 011011\n"
     ]
    }
   ],
   "source": [
    "from collections import Counter\n",
    "\n",
    "\n",
    "def MIN_PRIORITY_QUEUE(S):\n",
    "    return sorted(S.items(), key=lambda x: x[1], reverse=True)\n",
    "\n",
    "\n",
    "def EXTRACT_MIN(Q):\n",
    "    return Q.pop()\n",
    "\n",
    "\n",
    "def INSERT(Q, z):\n",
    "    return Q.append(z)\n",
    "\n",
    "\n",
    "def HUFFMAN(S, a):\n",
    "    n = len(S)\n",
    "    Q = MIN_PRIORITY_QUEUE(S)\n",
    "    for i in range(n - 1):\n",
    "        left = EXTRACT_MIN(Q)\n",
    "        right = EXTRACT_MIN(Q)\n",
    "        freq = left[1] + right[1]\n",
    "        z = (left[0] + right[0], freq)\n",
    "        INSERT(Q, z)\n",
    "        a.append([left, \"0\", left[0] + right[0]])\n",
    "        a.append([right, \"1\", left[0] + right[0]])\n",
    "        Q = dict(zip([i[0] for i in Q], [i[1] for i in Q]))\n",
    "        Q = MIN_PRIORITY_QUEUE(Q)\n",
    "    a.append([EXTRACT_MIN(Q), \"\", \"top\"])\n",
    "    return a\n",
    "\n",
    "\n",
    "def PrintReslut(b):\n",
    "    for i in range(len(a)):\n",
    "        now = a[i][0][0]\n",
    "        num = a[i][1]\n",
    "        j = 0\n",
    "        while a[j][2] != 'top':\n",
    "            if a[i][2] == a[j][0][0]:\n",
    "                num = a[j][1] + num\n",
    "                i = j\n",
    "                flag = 0\n",
    "                for k in range(len(a)):\n",
    "                    if a[k][0][0] == 'top' or a[j][2] == a[k][0][0]:\n",
    "                        flag = 1\n",
    "                        break\n",
    "            else:\n",
    "                j += 1\n",
    "        if now in s:\n",
    "            b.append([now, num])\n",
    "    return b\n",
    "\n",
    "\n",
    "def DivideS(S):\n",
    "    S = list(S)\n",
    "    S = Counter(S)\n",
    "    S = dict(S)\n",
    "    return S\n",
    "\n",
    "input_str = input(\"ここに文字列データを入力: \")\n",
    "s = DivideS(input_str)\n",
    "a = HUFFMAN(s, [])\n",
    "\n",
    "result = PrintReslut([])\n",
    "\n",
    "total_counts = sum(s.values())\n",
    "average_code_length = 0\n",
    "\n",
    "convert = {}\n",
    "\n",
    "\n",
    "for b in sorted(result):\n",
    "    convert[b[0]] = b[1]\n",
    "    symbol, code = b[0], b[1]\n",
    "    print(symbol + \": \" + code)\n",
    "    probability = s[symbol] / total_counts\n",
    "    average_code_length += probability * len(code)\n",
    "\n",
    "print(\"平均符号長:\", average_code_length)\n",
    "\n",
    "ans = \"\"\n",
    "for i in input_str:\n",
    "    ans += convert[i]\n",
    "\n",
    "print(\"符号化後のビット列:\", ans)"
   ]
  },
  {
   "cell_type": "code",
   "execution_count": 33,
   "metadata": {},
   "outputs": [
    {
     "name": "stdout",
     "output_type": "stream",
     "text": [
      "<3, 5, 6, >\n"
     ]
    }
   ],
   "source": [
    "node1 = Node(3)\n",
    "node2 = Node(5)\n",
    "node3 = Node(6)\n",
    "node1.next = node2\n",
    "node2.next = node3\n",
    "print_list(node1)"
   ]
  },
  {
   "cell_type": "code",
   "execution_count": null,
   "metadata": {},
   "outputs": [],
   "source": [
    "線形探索→O(n)\n",
    "二分探索→O(logn)\n",
    "Pythonのソート→O(nlogn)\n",
    "選択ソート→O(n^2)\n",
    "バブルソート→O(n^2)\n",
    "挿入ソート→O(n^2)\n",
    "クイックソート平均→O(nlogn)\n",
    "クイックソート最悪→O(n^2)\n",
    "マージソート→O(nlogn)\n",
    "配列を用いたリストi番目の要素の読み書き→O(1)\n",
    "配列を用いたリストの末尾への要素の追加と削除→O(1)\n",
    "配列を用いたリストの任意の場所への要素の追加と削除→O(n)\n",
    "リンクリストのi番目の要素の読み書き→O(n)\n",
    "リンクリストの任意の場所への追加末尾からの要素の削除→O(1)\n",
    "↑追加や削除の対象とするノードの探索には別途O(n)かかる\n",
    "スタック操作→O(1)\n",
    "キュー操作→O(1)\n",
    "両端キュー→O(1)\n",
    "リスト→O(n)\n",
    "集合→O(1)\n",
    "辞書→O(1)\n",
    "ハッシュテーブル→O(1)"
   ]
  }
 ],
 "metadata": {
  "kernelspec": {
   "display_name": ".venv",
   "language": "python",
   "name": "python3"
  },
  "language_info": {
   "codemirror_mode": {
    "name": "ipython",
    "version": 3
   },
   "file_extension": ".py",
   "mimetype": "text/x-python",
   "name": "python",
   "nbconvert_exporter": "python",
   "pygments_lexer": "ipython3",
   "version": "3.12.8"
  }
 },
 "nbformat": 4,
 "nbformat_minor": 4
}
