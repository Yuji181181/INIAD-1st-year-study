{
 "cells": [
  {
   "cell_type": "markdown",
   "metadata": {},
   "source": [
    "## 静的ファイル\n",
    "\n",
    "***\n",
    "\n",
    "### ドジャンゴにおける静的ファイル\n",
    "\n",
    "![](images/Django_静的ファイル.png)\n",
    "\n",
    "### 静的ファイルを追加する方法\n",
    "\n",
    "\n",
    "#### ①フォルダを作成する\n",
    "\n",
    "1. blogフォルダにstaticフォルダを作る\n",
    "2. staticフォルダ(1.で作ったもの)の中にblogフォルダを作る\n",
    "3. blogフォルダ(2.で作ったもの)にimgフォルダを作成する\n",
    "4. blogフォルダ(2.で作ったもの)にcssフォルダを作成する\n",
    "\n",
    "\n",
    "#### ②②画像ファイルを追加する\n",
    "\n",
    "1. 追加したい画像(xxxx.png)をblog/static/blog/img フォルダに移動する\n",
    "\n",
    "\n",
    "> #### ヒント：**テンプレート言語のタグ**\n",
    "> \n",
    "> - URL\n",
    ">     - {% url '名前' 変数,変数... %} : URLディスパッチャ内の、指定した名前(name=で指定した値)に対応するパターンに置き換える\n",
    ">         - 変数をパターンに代入する\n",
    ">     - 例）\n",
    ">         - {% url 'detail' article.id %} : 'detail'という名前のURLパターンに置き換える → /数字\n",
    "> \n",
    "> - その他、サンプルで利用しているタグ\n",
    ">     - {% load static %} : 静的ファイルを読み込めるようにする\n",
    ">     - {% static 'パス' %} : 静的ファイルのURLに置き換える\n",
    ">     - {% csrf_token %} : フォーム内で、CSRF対策のためのトークンを出力する\n",
    "\n",
    "\n",
    "#### ③画像ファイルを追加する\n",
    "\n",
    "- index.html を修正する\n",
    "    - blog/templates/blog/index.html を以下のように編集します\n",
    "    \n",
    "![](images/index.html.png)\n"
   ]
  }
 ],
 "metadata": {
  "language_info": {
   "name": "python"
  }
 },
 "nbformat": 4,
 "nbformat_minor": 2
}
