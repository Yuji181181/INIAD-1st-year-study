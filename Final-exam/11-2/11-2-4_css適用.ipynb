{
 "cells": [
  {
   "cell_type": "markdown",
   "metadata": {},
   "source": [
    "## 静的ファイルを使ってcssを適用する\n",
    "\n",
    "***\n",
    "\n",
    "### cssを適用するには\n",
    "\n",
    "- 一般的に、CSSは事前に作成し、各ページから読み込んで利用する\n",
    "- 作成した静的ファイルのフォルダにCSSファイルを展開し、テンプレートから参照する\n",
    "\n",
    "#### 1. default.cssの作成\n",
    "\n",
    "今回のBlogアプリに適用するために、blog/static/blog/css 直下にdefault.cssというファイルを作成する\n",
    "\n",
    "#### 2. blog/templates/blog/index.html を以下のように編集し、作成したCSSファイルが参照されるようにする\n",
    "\n",
    "![](images/11-2-4_html.png)"
   ]
  }
 ],
 "metadata": {
  "language_info": {
   "name": "python"
  }
 },
 "nbformat": 4,
 "nbformat_minor": 2
}
