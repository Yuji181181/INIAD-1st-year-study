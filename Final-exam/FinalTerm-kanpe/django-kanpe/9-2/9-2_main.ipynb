{
 "cells": [
  {
   "cell_type": "markdown",
   "metadata": {},
   "source": [
    "### ページ追加の基本\n",
    " - ページ追加に関するWebサイトとWebアプリの違い\n",
    "    - HTMLのみ\n",
    "       - HTMLファイルを作るだけ\n",
    "    - Django\n",
    "       - 「URLディスパッチャurls.py」の設定(Python)\n",
    "      - views.pyに対応する関数の作成(Python)\n",
    "      - 表示用のHTMLファイル作成(HTML+α)\n",
    " - 実際の手順の確認\n",
    "![](9-2-1.png)\n",
    "![](9-2-2.png)"
   ]
  },
  {
   "cell_type": "markdown",
   "metadata": {},
   "source": [
    "### テンプレート\n",
    " - 基本的な考え方\n",
    "     - 基本はHTMLとしてそのまま出力される\n",
    "    - {{ 変数 }}：この箇所は、変数の値が出力される\n",
    "    - {% タグ %}：この箇所は、いくつかの特殊処理が行われる\n",
    " - 変数\n",
    "    - {{ 変数名 }}：変数の値で置き換える\n",
    "    - {{ 変数名.属性名 }}：変数の属性の値で置き換える\n",
    "    ![](9-2-9.png)\n",
    " - フィルタ\n",
    "    - {{ 変数名 | フィルタ名}}\n",
    "        - 変数の値にフィルタ処理を行った結果で置き換える（具体例は組込みフィルタ例.ipynb参照）\n",
    " - 繰り返しと条件分岐\n",
    " ![](9-2-10.png)\n",
    " - その他のタグ\n",
    " ![](9-2-11.png)\n"
   ]
  },
  {
   "cell_type": "markdown",
   "metadata": {},
   "source": [
    "### レスポンスの生成\n",
    " - render関数\n",
    "    ![](9-2-13.png)\n",
    "\n",
    " - redirect関数\n",
    "    - どのディレクトリからも自由にアクセスできる\n",
    "    - （例）\n",
    "      - URLを直接指定する\n",
    "         - return redirect('URL');\n",
    "\n",
    "      - to()メソッドを使ってURLを直接指定する\n",
    "         - return redirect()->to('URL');\n",
    "\n",
    "      - route()ヘルパーを使って名前付きルートを指定する\n",
    "         - return redirect(route('ルート名'));\n",
    "\n",
    "      - route()メソッドを使って名前付きルートを指定する ★おすすめ\n",
    "      補足：route()ヘルパーとは異なる。redirect()ヘルパーは引数が空だとRedirectorというクラスのインスタンスを返すが、そのインスタンスが持つroute()メソッドのこと\n",
    "         - return redirect()->route('ルート名');\n",
    "\n",
    "      - action()メソッドを使ってコントローラとアクションを指定する\n",
    "         - return redirect()->action([コントローラ名::class, 'アクション名']);\n",
    " \n",
    " - get_object_or_404関数\n",
    "    - 引数に下記のようにModelとpkを指定することで、\"user\"のオブジェクトを返し、存在しなければ404を返します\n",
    "      - user = get_object_or_404(User,pk=1)\n",
    "\n",
    " - get_list_or_404関数\n",
    "    - get_object_or_404関数と使い方はほぼ同じ、こちらはオブジェクト複数件を取得できる\n",
    "\n"
   ]
  },
  {
   "cell_type": "markdown",
   "metadata": {},
   "source": [
    "### URLのパラメータ\n",
    " - DjangoではURLの一部を変数として取得できる\n",
    " - 授業の例\n",
    "  ![](9-2-14.png)\n",
    " - URLのパス中に埋め込まれるパラメータをパスパラメータと呼ぶ\n",
    " - パスパラメータのメリット：views.py内の1つの関数で、URLに応じて処理を変更できる\n"
   ]
  },
  {
   "cell_type": "markdown",
   "metadata": {},
   "source": [
    "### 以下簡単なコード例\n",
    "from django.http import HttpResponse<br>\n",
    "from django.urls import path\n",
    "\n",
    "ビュー関数<br>\n",
    "def show_user(request, user_id):<br>\n",
    "    return HttpResponse(f\"ユーザーIDは {user_id} です。\")<br>\n",
    "\n",
    "URLパターン<br>\n",
    "urlpatterns = [<br>\n",
    "    path('user/<int:user_id>/', show_user),  # パスパラメータの定義<br>\n",
    "]<br>\n",
    "\n",
    "### 解説\n",
    "1.path() 関数内のパスパラメータ\n",
    "\n",
    "user/<int:user_id>/ の部分で、パスパラメータを定義しています。<br>\n",
    "<int:user_id> は、整数型の user_id を取得することを意味します。int の部分を str に変えることで文字列型のパラメータも受け取れます。\n",
    "\n",
    "2.ビュー関数でのパラメータの利用\n",
    "\n",
    "show_user 関数の引数に user_id が渡されます。<br>\n",
    "パスパラメータで取得した値は、自動的にビュー関数の引数として渡される仕組みになっています。\n",
    "\n",
    "3.URLの例\n",
    "\n",
    "この例で定義されたパスが有効になると、以下のようなURLを指定できます：<br>\n",
    "\n",
    "http://localhost:8000/user/42/\n",
    "<br>\n",
    "この場合、42 が user_id に渡され、\"ユーザーIDは 42 です。\" というレスポンスが返ります。\n",
    "\n",
    "4.他の型のパラメータ例\n",
    "\n",
    "str: 任意の文字列<br>\n",
    "例: <str:username>/<br>\n",
    "slug: URLで使いやすい文字列形式<br>\n",
    "例: <slug:slug>/<br>\n",
    "uuid: UUID型<br>\n",
    "例: <uuid:id>/<br>"
   ]
  }
 ],
 "metadata": {
  "language_info": {
   "name": "python"
  }
 },
 "nbformat": 4,
 "nbformat_minor": 2
}
