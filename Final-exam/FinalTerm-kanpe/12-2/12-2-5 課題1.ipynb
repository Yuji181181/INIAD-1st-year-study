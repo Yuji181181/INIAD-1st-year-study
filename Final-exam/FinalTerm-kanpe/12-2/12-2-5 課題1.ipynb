{
 "cells": [
  {
   "cell_type": "markdown",
   "metadata": {},
   "source": [
    "## 課題12-2-1\n",
    "\n",
    "## 以下の作業をするためのSQL文を提出してください。\n",
    "\n",
    "1. studentsテーブルの中から、class_id列が3でかつtel列が090で始まるデータを抽出し、その最初の2件について、id, f_roman, g_roman, class_id, tel列を表示する　\n",
    "\n",
    "    >select id,f_roman, g_roman, class_id, tel from students where class_id = 3 and tel like '090%' limit 2;  　\n",
    "\n",
    "    ![](images/image8.png)  \n",
    "\n",
    "2. studentsテーブルの中から、id列が 10030から10039までで、かつpref列が Chiba、Ibaraki、Gunma のいずれかのデータを抽出し、その id, f_roman, g_roman, pref列を表示する  \n",
    "\n",
    "    >select id, f_roman, g_roman, pref from students where id between 10030 and 10039 and pref in ('Chiba', 'Ibaraki', 'Gunma');  \n",
    "\n",
    "    ![](images/image9.png)  \n",
    "\n",
    "3. studentsテーブルの中から、pref列が Tokyo で、tel列には値が入っているデータを抽出し、class_id列の昇順にすべての列を表示する。  \n",
    "\n",
    "    >select * from students where pref = 'Tokyo' and tel is not null order by class_id;\n",
    "\n",
    "    ![](images/image10.png)  "
   ]
  }
 ],
 "metadata": {
  "language_info": {
   "name": "python"
  }
 },
 "nbformat": 4,
 "nbformat_minor": 2
}
