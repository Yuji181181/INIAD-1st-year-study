{
 "cells": [
  {
   "cell_type": "markdown",
   "metadata": {},
   "source": [
    "## DBMSとSQL\n",
    "\n",
    "***\n",
    "\n",
    "### 関係データベースとは\n",
    "\n",
    "関係データベースではデータの各項目をカテゴリーごとに分けて複数のテーブルに整理し、それらの間の関係性を設定する。\n",
    "\n",
    "![](images/image2.png)\n",
    "\n",
    ">仕入先データは専用の仕入先テーブルに格納、仕入テーブルには参照すべき仕入先番号だけが保存される。  \n",
    ">目的にあわせて複数テーブルのデータを効果的に組み合わせられるのが特長\n",
    "\n",
    "***\n",
    "### 関係データベースの管理システム（Relational Database Management System, RDBMS）について\n",
    "\n",
    "RDBMSは、SQLと呼ばれる専用言語を使ってデータの操作や検索などを行う\n",
    "SQLiteはRDBMS＋SQL言語のパッケージの1つ\n",
    "\n",
    "***\n",
    "\n",
    "### SQLiteについて\n",
    "SQLiteは、SQL言語を使用したRDBMSの一種。  \n",
    "動作が軽く、Djangoなど、組み込み用などによく用いられている。  \n",
    "トランザクション機能をもち、複数ユーザからの同時アクセスへの対応も可能。  \n",
    "現在はバージョン3（SQLite3）が広く用いられている。"
   ]
  }
 ],
 "metadata": {
  "language_info": {
   "name": "python"
  }
 },
 "nbformat": 4,
 "nbformat_minor": 2
}
