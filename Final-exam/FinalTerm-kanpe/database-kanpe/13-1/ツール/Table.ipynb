{
 "cells": [
  {
   "cell_type": "markdown",
   "metadata": {},
   "source": [
    "table作成"
   ]
  },
  {
   "cell_type": "code",
   "execution_count": 1,
   "metadata": {},
   "outputs": [
    {
     "name": "stdout",
     "output_type": "stream",
     "text": [
      "CREATE TABLE employees (id INTEGER PRIMARY KEY, name TEXT NOT NULL, age INTEGER, department TEXT);\n"
     ]
    }
   ],
   "source": [
    "def generate_create_table_command(table_name, columns):\n",
    "    \n",
    "    columns_def = \", \".join([f\"{col[0]} {col[1]}\" for col in columns])\n",
    "    \n",
    "    \n",
    "    create_table_sql = f\"CREATE TABLE {table_name} ({columns_def});\"\n",
    "    return create_table_sql\n",
    "\n",
    "\n",
    "table_name = \"employees\" # テーブル名を入力\n",
    "columns = [\n",
    "    (\"id\", \"INTEGER PRIMARY KEY\"),  # 列名とデータ型を入力\n",
    "    (\"name\", \"TEXT NOT NULL\"),\n",
    "    (\"age\", \"INTEGER\"),\n",
    "    (\"department\", \"TEXT\")\n",
    "]\n",
    "\n",
    "\n",
    "sql_command = generate_create_table_command(table_name, columns)\n",
    "print(sql_command)\n"
   ]
  },
  {
   "cell_type": "markdown",
   "metadata": {},
   "source": [
    "外部キー生成"
   ]
  },
  {
   "cell_type": "code",
   "execution_count": 2,
   "metadata": {},
   "outputs": [
    {
     "name": "stdout",
     "output_type": "stream",
     "text": [
      "FOREIGN KEY (x) REFERENCES y(z)\n"
     ]
    }
   ],
   "source": [
    "def generate_foreign_key_constraint(fk_column, ref_table, ref_column):\n",
    "    foreign_key_constraint = (\n",
    "        f\"FOREIGN KEY ({fk_column}) REFERENCES {ref_table}({ref_column})\"\n",
    "    )\n",
    "    return foreign_key_constraint\n",
    "\n",
    "\n",
    "if __name__ == \"__main__\":\n",
    "    fk_column = \"x\"  # 外部キーとして使用するカラム名を入力\n",
    "    ref_table = \"y\"  # 参照先テーブル名を入力\n",
    "    ref_column = \"z\"  # 参照先テーブルのカラム名を入力\n",
    "\n",
    "    constraint = generate_foreign_key_constraint(fk_column, ref_table, ref_column)\n",
    "\n",
    "    print(constraint)\n",
    "\n",
    "\n",
    "# 例の出力\n",
    "# FOREIGN KEY (x) REFERENCES y(z)"
   ]
  }
 ],
 "metadata": {
  "kernelspec": {
   "display_name": "Python 3",
   "language": "python",
   "name": "python3"
  },
  "language_info": {
   "codemirror_mode": {
    "name": "ipython",
    "version": 3
   },
   "file_extension": ".py",
   "mimetype": "text/x-python",
   "name": "python",
   "nbconvert_exporter": "python",
   "pygments_lexer": "ipython3",
   "version": "3.12.8"
  }
 },
 "nbformat": 4,
 "nbformat_minor": 2
}
