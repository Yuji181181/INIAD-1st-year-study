{
 "cells": [
  {
   "cell_type": "markdown",
   "metadata": {},
   "source": [
    "データ登録"
   ]
  },
  {
   "cell_type": "code",
   "execution_count": null,
   "metadata": {},
   "outputs": [
    {
     "name": "stdout",
     "output_type": "stream",
     "text": [
      "-- YujiTest Table Commands --\n",
      "INSERT INTO YujiTest (album_title, artist, track_name, seconds) VALUES ('田所浩二のアルバム', '田所浩二', '114514', 810);\n"
     ]
    }
   ],
   "source": [
    "def generate_insert_commands(table_name):\n",
    "    data = [\n",
    "        (\"田所浩二のアルバム\", \"田所浩二\", 114514, 810), ## ここにデータを入力\n",
    "    ]\n",
    "\n",
    "    commands = []\n",
    "    for album_title, artist, track_name, seconds in data:\n",
    "        command = (\n",
    "            f\"INSERT INTO {table_name} (album_title, artist, track_name, seconds) \" # テーブル名と列名を入力\n",
    "            f\"VALUES ('{album_title}', '{artist}', '{track_name}', {seconds});\"\n",
    "        )\n",
    "        commands.append(command)\n",
    "\n",
    "    return commands\n",
    "\n",
    "\n",
    "if __name__ == \"__main__\":\n",
    "    table_name = input(\"テーブル名を入力してください: \").strip()\n",
    "\n",
    "    commands = generate_insert_commands(table_name)\n",
    "\n",
    "    print(f\"-- {table_name} Table Commands --\")\n",
    "    for command in commands:\n",
    "        print(command)\n"
   ]
  },
  {
   "cell_type": "markdown",
   "metadata": {},
   "source": [
    "データ変更"
   ]
  },
  {
   "cell_type": "code",
   "execution_count": 1,
   "metadata": {},
   "outputs": [
    {
     "name": "stdout",
     "output_type": "stream",
     "text": [
      "-- tracks Table Update Commands --\n",
      "UPDATE tracks SET track_name = '新しい曲名', seconds = 350 WHERE album_title = '田所浩二のアルバム' AND artist = '田所浩二';\n"
     ]
    }
   ],
   "source": [
    "def generate_update_commands(table_name):\n",
    "    # データ内容（例: album_titleを変更する）\n",
    "    data = [\n",
    "        (\"田所浩二のアルバム\", \"田所浩二\", \"新しい曲名\", 350),  # track_name と seconds を変更\n",
    "    ]\n",
    "\n",
    "    commands = []\n",
    "    for album_title, artist, new_track_name, new_seconds in data:  # 変更後のデータを指定\n",
    "        command = (\n",
    "            f\"UPDATE {table_name} \"\n",
    "            f\"SET track_name = '{new_track_name}', seconds = {new_seconds} \"\n",
    "            f\"WHERE album_title = '{album_title}' AND artist = '{artist}';\"\n",
    "        )\n",
    "        commands.append(command)\n",
    "\n",
    "    return commands\n",
    "\n",
    "if __name__ == \"__main__\":\n",
    "    table_name = input(\"テーブル名を入力してください: \").strip()\n",
    "\n",
    "    commands = generate_update_commands(table_name)\n",
    "\n",
    "    print(f\"-- {table_name} Table Update Commands --\")\n",
    "    for command in commands:\n",
    "        print(command)\n"
   ]
  },
  {
   "cell_type": "markdown",
   "metadata": {},
   "source": [
    "データの消去"
   ]
  },
  {
   "cell_type": "code",
   "execution_count": 4,
   "metadata": {},
   "outputs": [
    {
     "name": "stdout",
     "output_type": "stream",
     "text": [
      "-- YujiTable Table Delete Commands --\n",
      "DELETE FROM YujiTable WHERE album_title = '田所浩二のアルバム' AND artist = '田所浩二';\n"
     ]
    }
   ],
   "source": [
    "def generate_delete_commands(table_name):\n",
    "    # データ内容（削除対象のアルバムタイトルとアーティスト）\n",
    "    data = [\n",
    "        (\"田所浩二のアルバム\", \"田所浩二\"),  # 削除対象のアルバムタイトルとアーティストを入力\n",
    "    ]\n",
    "\n",
    "    commands = []\n",
    "    for album_title, artist in data:\n",
    "        command = (\n",
    "            f\"DELETE FROM {table_name} \"\n",
    "            f\"WHERE album_title = '{album_title}' AND artist = '{artist}';\"\n",
    "        )\n",
    "        commands.append(command)\n",
    "\n",
    "    return commands\n",
    "\n",
    "if __name__ == \"__main__\":\n",
    "    table_name = input(\"テーブル名を入力してください: \").strip()\n",
    "\n",
    "    commands = generate_delete_commands(table_name)\n",
    "\n",
    "    print(f\"-- {table_name} Table Delete Commands --\")\n",
    "    for command in commands:\n",
    "        print(command)\n"
   ]
  },
  {
   "cell_type": "code",
   "execution_count": null,
   "metadata": {},
   "outputs": [],
   "source": []
  }
 ],
 "metadata": {
  "kernelspec": {
   "display_name": ".venv",
   "language": "python",
   "name": "python3"
  },
  "language_info": {
   "codemirror_mode": {
    "name": "ipython",
    "version": 3
   },
   "file_extension": ".py",
   "mimetype": "text/x-python",
   "name": "python",
   "nbconvert_exporter": "python",
   "pygments_lexer": "ipython3",
   "version": "3.12.8"
  }
 },
 "nbformat": 4,
 "nbformat_minor": 2
}
