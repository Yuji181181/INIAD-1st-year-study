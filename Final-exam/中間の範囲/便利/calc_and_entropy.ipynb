{
 "cells": [
  {
   "cell_type": "markdown",
   "id": "e4f95417-903f-492c-8de0-94a9f05c73f4",
   "metadata": {},
   "source": [
    "calc_infovalue(p)情報量の計算その事象が起きる確率を入れる。\n",
    "\n",
    "entropy(lst)確率のリストを入れる。\\\n",
    "例)晴れが1/2、曇りが1/4、雨が1/4のときの情報エントロピーを求めなさい\\\n",
    "この場合entropy([1/2, 1/4, 1/4])のように入れる。\n",
    "\n",
    "その他先頭にcalcがつく関数は計算時間見積もり用の関数。\\\n",
    "例)長さ 10000 の整数のリストを選択ソートでソートしたところ、 20ms かかったとする。 この時、長さ 5000 の整数のリストを、同じ選択ソートでソートすると、どの程度の時間がかかると考えられるか。 実行時間が最悪計算量に比例すると仮定し、見積りなさい。\\\n",
    "この場合、msは20、Q_valueは10000、A_valueは5000をcalc_select(20, 10000, 5000)のように入れる。"
   ]
  },
  {
   "cell_type": "code",
   "execution_count": 3,
   "id": "32f43611-57b6-40a4-9d18-a2f0a5a0b2c8",
   "metadata": {},
   "outputs": [],
   "source": [
    "import math"
   ]
  },
  {
   "cell_type": "code",
   "execution_count": 10,
   "id": "0f80fd4b-761d-4d5a-8762-d6dde31a74d2",
   "metadata": {},
   "outputs": [],
   "source": [
    "def calc_infovalue(p):\n",
    "    return -1 * math.log2(p)"
   ]
  },
  {
   "cell_type": "code",
   "execution_count": 4,
   "id": "c9c62c86-09c5-44a1-b478-253199033fd9",
   "metadata": {},
   "outputs": [
    {
     "name": "stdout",
     "output_type": "stream",
     "text": [
      "2.4056390622295662\n"
     ]
    }
   ],
   "source": [
    "def entropy(lst):\n",
    "    return -sum(x * math.log2(x) for x in lst)\n",
    "print(entropy([1/8, 1/8, 1/8, 1/8, 1/8, 3/8]))"
   ]
  },
  {
   "cell_type": "code",
   "execution_count": 12,
   "id": "d1a9494e-8428-4553-aeef-175f3f263d1f",
   "metadata": {},
   "outputs": [],
   "source": [
    "def calc_quick_ave(ms, Q_value, A_value):\n",
    "    return ms * ((A_value / Q_value) * (math.log(A_value) / math.log(Q_value)))"
   ]
  },
  {
   "cell_type": "code",
   "execution_count": 13,
   "id": "99eaa36e-2304-47b5-a8bf-4d2da8c58272",
   "metadata": {},
   "outputs": [],
   "source": [
    "def calc_quick_worst(ms, Q_value, A_value):\n",
    "    return ms * ((A_value / Q_value) ** 2)"
   ]
  },
  {
   "cell_type": "code",
   "execution_count": 14,
   "id": "58a9b725-ad4d-466e-88fe-5c5cb7420644",
   "metadata": {},
   "outputs": [],
   "source": [
    "def calc_select(ms, Q_value, A_value):\n",
    "    return ms * ((A_value / Q_value) ** 2)"
   ]
  },
  {
   "cell_type": "code",
   "execution_count": 5,
   "id": "1c516356-4b23-4a0a-9bf7-3447e1a9183c",
   "metadata": {},
   "outputs": [
    {
     "name": "stdout",
     "output_type": "stream",
     "text": [
      "8.0\n"
     ]
    }
   ],
   "source": [
    "def calc_binary(ms, Q_value, A_value):\n",
    "    return ms * (math.log(A_value) / math.log(Q_value))\n",
    "print(calc_binary(10,100000,10000))"
   ]
  },
  {
   "cell_type": "code",
   "execution_count": 19,
   "id": "897055fd-193b-4c51-bd2a-09e0796e6a62",
   "metadata": {},
   "outputs": [],
   "source": [
    "def calc_marge(ms, Q_value, A_value):\n",
    "    return  ms * ((A_value / Q_value) * (math.log(A_value) / math.log(Q_value)))"
   ]
  },
  {
   "cell_type": "code",
   "execution_count": 1,
   "id": "ec57cd59-ad0e-4dad-a451-15d52a583d2e",
   "metadata": {},
   "outputs": [
    {
     "ename": "NameError",
     "evalue": "name 'entropy' is not defined",
     "output_type": "error",
     "traceback": [
      "\u001b[1;31m---------------------------------------------------------------------------\u001b[0m",
      "\u001b[1;31mNameError\u001b[0m                                 Traceback (most recent call last)",
      "\u001b[1;32mc:\\Users\\iniad\\Downloads\\exam\\exam\\calc_and_entropy.ipynb セル 10\u001b[0m line \u001b[0;36m1\n\u001b[1;32m----> <a href='vscode-notebook-cell:/c%3A/Users/iniad/Downloads/exam/exam/calc_and_entropy.ipynb#X12sZmlsZQ%3D%3D?line=0'>1</a>\u001b[0m \u001b[39mprint\u001b[39m(entropy([\u001b[39m1\u001b[39m\u001b[39m/\u001b[39m\u001b[39m8\u001b[39m, \u001b[39m1\u001b[39m\u001b[39m/\u001b[39m\u001b[39m8\u001b[39m, \u001b[39m1\u001b[39m\u001b[39m/\u001b[39m\u001b[39m8\u001b[39m, \u001b[39m1\u001b[39m\u001b[39m/\u001b[39m\u001b[39m8\u001b[39m, \u001b[39m1\u001b[39m\u001b[39m/\u001b[39m\u001b[39m8\u001b[39m, \u001b[39m3\u001b[39m\u001b[39m/\u001b[39m\u001b[39m8\u001b[39m]))\n",
      "\u001b[1;31mNameError\u001b[0m: name 'entropy' is not defined"
     ]
    }
   ],
   "source": [
    "print(entropy([1/8, 1/8, 1/8, 1/8, 1/8, 3/8]))"
   ]
  }
 ],
 "metadata": {
  "kernelspec": {
   "display_name": "Python 3 (ipykernel)",
   "language": "python",
   "name": "python3"
  },
  "language_info": {
   "codemirror_mode": {
    "name": "ipython",
    "version": 3
   },
   "file_extension": ".py",
   "mimetype": "text/x-python",
   "name": "python",
   "nbconvert_exporter": "python",
   "pygments_lexer": "ipython3",
   "version": "3.11.6"
  }
 },
 "nbformat": 4,
 "nbformat_minor": 5
}
