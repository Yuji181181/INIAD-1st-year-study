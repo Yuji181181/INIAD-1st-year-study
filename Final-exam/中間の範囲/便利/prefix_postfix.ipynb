{
 "cells": [
  {
   "cell_type": "markdown",
   "id": "72495541-c812-44f5-96cf-cd8a12e1c56c",
   "metadata": {},
   "source": [
    "to_prefix, to_postfixはそれぞれ中値記法を前置記法、後置記法に変換する関数\\\n",
    "from_prefix, from_postfixはそれぞれ前置記法、後置記法を中値記法に変換する関数\n",
    "\n",
    "引数には文字列の式を入力すること。例）'( 7 + 2 ) * ( 5 - 3 ) - 1'\n",
    "\n",
    "※注意点\\\n",
    "記号や括弧等の間に必ずスペースを入れてください。\\\n",
    "中値記法への変換は括弧が余分につくことがあります。式の意味が変わらない範囲で適宜修正してください。\\\n",
    "めんどくさかったのでアルファベット等の文字には対応しておりません。aを1とかに置き換えて対応してください。"
   ]
  },
  {
   "cell_type": "code",
   "execution_count": 2,
   "id": "8ffd66e9-55cb-4a4a-bd9d-d1c41345d637",
   "metadata": {},
   "outputs": [],
   "source": [
    "def to_prefix(infix):\n",
    "    precedence = {'+': 1, '-': 1, '*': 2, '/': 2}\n",
    "    stack = []\n",
    "    output = []\n",
    "    operators = set(['+', '-', '*', '/'])\n",
    "\n",
    "    for token in reversed(infix.split()):\n",
    "        if token.isdigit():\n",
    "            output.append(token)\n",
    "        elif token in operators:\n",
    "            while (stack and precedence.get(stack[-1], 0) >= precedence.get(token, 0)):\n",
    "                output.append(stack.pop())\n",
    "            stack.append(token)\n",
    "        elif token == ')':\n",
    "            stack.append(token)\n",
    "        elif token == '(':\n",
    "            while stack and stack[-1] != ')':\n",
    "                output.append(stack.pop())\n",
    "            stack.pop()\n",
    "\n",
    "    while stack:\n",
    "        output.append(stack.pop())\n",
    "\n",
    "    return ' '.join(reversed(output))"
   ]
  },
  {
   "cell_type": "code",
   "execution_count": 3,
   "id": "2acb3286-ac21-496c-b39f-dae9891fc8fa",
   "metadata": {},
   "outputs": [],
   "source": [
    "def to_postfix(infix):\n",
    "    precedence = {'+': 1, '-': 1, '*': 2, '/': 2}\n",
    "    stack = []\n",
    "    output = []\n",
    "    operators = set(['+', '-', '*', '/'])\n",
    "\n",
    "    for token in infix.split():\n",
    "        if token.isdigit():\n",
    "            output.append(token)\n",
    "        elif token in operators:\n",
    "            while (stack and precedence.get(stack[-1], 0) >= precedence.get(token, 0)):\n",
    "                output.append(stack.pop())\n",
    "            stack.append(token)\n",
    "        elif token == '(':\n",
    "            stack.append(token)\n",
    "        elif token == ')':\n",
    "            while stack and stack[-1] != '(':\n",
    "                output.append(stack.pop())\n",
    "            stack.pop() \n",
    "\n",
    "    while stack:\n",
    "        output.append(stack.pop())\n",
    "\n",
    "    return ' '.join(output)"
   ]
  },
  {
   "cell_type": "code",
   "execution_count": 4,
   "id": "58aa3628-3854-41a4-8dac-224e2307d6e9",
   "metadata": {},
   "outputs": [],
   "source": [
    "def from_prefix(prefix):\n",
    "    stack = []\n",
    "    operators = set(['+', '-', '*', '/'])\n",
    "\n",
    "    tokens = prefix.split()[::-1] \n",
    "\n",
    "    for token in tokens:\n",
    "        if token in operators:\n",
    "            operand1 = stack.pop()\n",
    "            operand2 = stack.pop()\n",
    "            expression = f\"({operand1} {token} {operand2})\"\n",
    "            stack.append(expression)\n",
    "        else:\n",
    "            stack.append(token)\n",
    "\n",
    "    return stack[0]"
   ]
  },
  {
   "cell_type": "code",
   "execution_count": 5,
   "id": "beca7597-90d4-4cc8-ab5d-86dd635a9b04",
   "metadata": {},
   "outputs": [],
   "source": [
    "def from_postfix(postfix):\n",
    "    stack = []\n",
    "    operators = set(['+', '-', '*', '/'])\n",
    "\n",
    "    tokens = postfix.split()\n",
    "\n",
    "    for token in tokens:\n",
    "        if token in operators:\n",
    "            operand2 = stack.pop()\n",
    "            operand1 = stack.pop()\n",
    "            expression = f\"({operand1} {token} {operand2})\"\n",
    "            stack.append(expression)\n",
    "        else:\n",
    "            stack.append(token)\n",
    "\n",
    "    return stack[0]"
   ]
  },
  {
   "cell_type": "code",
   "execution_count": 6,
   "id": "6ee53cf1-b6c8-4133-a73c-ca84bb2e5474",
   "metadata": {},
   "outputs": [
    {
     "name": "stdout",
     "output_type": "stream",
     "text": [
      "- * + 7 2 - 5 3 1\n",
      "((10 / (1 + (2 * 2))) * (2 + 3))\n"
     ]
    }
   ],
   "source": [
    "print(to_prefix('( 7 + 2 ) * ( 5 - 3 ) - 1'))\n",
    "print(from_postfix('10 1 2 2 * + / 2 3 + *'))"
   ]
  }
 ],
 "metadata": {
  "kernelspec": {
   "display_name": "Python 3 (ipykernel)",
   "language": "python",
   "name": "python3"
  },
  "language_info": {
   "codemirror_mode": {
    "name": "ipython",
    "version": 3
   },
   "file_extension": ".py",
   "mimetype": "text/x-python",
   "name": "python",
   "nbconvert_exporter": "python",
   "pygments_lexer": "ipython3",
   "version": "3.11.6"
  }
 },
 "nbformat": 4,
 "nbformat_minor": 5
}
