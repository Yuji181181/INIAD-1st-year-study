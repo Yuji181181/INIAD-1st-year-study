{
 "cells": [
  {
   "cell_type": "markdown",
   "metadata": {},
   "source": [
    "## hukasa"
   ]
  },
  {
   "cell_type": "code",
   "execution_count": 42,
   "metadata": {},
   "outputs": [
    {
     "name": "stdout",
     "output_type": "stream",
     "text": [
      "A\n",
      "B\n",
      "D\n",
      "G\n",
      "C\n",
      "E\n",
      "F\n"
     ]
    }
   ],
   "source": [
    "def dfs(graph, node, visited):\n",
    "    if node not in visited:\n",
    "        print(node)\n",
    "        visited.add(node)\n",
    "        for neighbor in graph[node]:\n",
    "            dfs(graph, neighbor, visited)\n",
    "\n",
    "graph = {\n",
    "    'A': ['B', 'D'],\n",
    "    'B': [],\n",
    "    'C': ['A', 'B', 'D', 'E'],\n",
    "    'D': ['G'],\n",
    "    'E': ['B',],\n",
    "    'F': ['C', 'E'],\n",
    "    'G': ['C', 'F']\n",
    "}\n",
    "\n",
    "visited = set()\n",
    "dfs(graph, 'A', visited)"
   ]
  },
  {
   "cell_type": "markdown",
   "metadata": {},
   "source": [
    "## haba"
   ]
  },
  {
   "cell_type": "code",
   "execution_count": 11,
   "metadata": {},
   "outputs": [
    {
     "name": "stdout",
     "output_type": "stream",
     "text": [
      "A\n",
      "B\n",
      "C\n",
      "D\n",
      "E\n",
      "F\n"
     ]
    }
   ],
   "source": [
    "from collections import deque\n",
    "\n",
    "def bfs(graph, start):\n",
    "    visited = set()\n",
    "    queue = deque([start])\n",
    "    visited.add(start)\n",
    "\n",
    "    while queue:\n",
    "        node = queue.popleft()\n",
    "        print(node)\n",
    "\n",
    "        for neighbor in graph[node]:\n",
    "            if neighbor not in visited:\n",
    "                visited.add(neighbor)\n",
    "                queue.append(neighbor)\n",
    "\n",
    "graph = {\n",
    "    'A': ['B', 'C'],\n",
    "    'B': ['A', 'D', 'E'],\n",
    "    'C': ['A', 'F'],\n",
    "    'D': ['B'],\n",
    "    'E': ['B', 'F'],\n",
    "    'F': ['C', 'E']\n",
    "}\n",
    "\n",
    "bfs(graph, 'A')"
   ]
  }
 ],
 "metadata": {
  "kernelspec": {
   "display_name": ".venv",
   "language": "python",
   "name": "python3"
  },
  "language_info": {
   "codemirror_mode": {
    "name": "ipython",
    "version": 3
   },
   "file_extension": ".py",
   "mimetype": "text/x-python",
   "name": "python",
   "nbconvert_exporter": "python",
   "pygments_lexer": "ipython3",
   "version": "3.12.8"
  }
 },
 "nbformat": 4,
 "nbformat_minor": 4
}
