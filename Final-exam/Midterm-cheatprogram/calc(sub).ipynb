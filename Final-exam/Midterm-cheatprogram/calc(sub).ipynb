{
 "cells": [
  {
   "cell_type": "code",
   "execution_count": 1,
   "id": "7b4fcc19",
   "metadata": {},
   "outputs": [],
   "source": [
    "import math"
   ]
  },
  {
   "cell_type": "code",
   "execution_count": 2,
   "id": "d1a9494e-8428-4553-aeef-175f3f263d1f",
   "metadata": {},
   "outputs": [],
   "source": [
    "def calc_quick_ave(ms, Q_value, A_value):\n",
    "    return ms * ((A_value / Q_value) * (math.log(A_value) / math.log(Q_value)))"
   ]
  },
  {
   "cell_type": "code",
   "execution_count": 3,
   "id": "99eaa36e-2304-47b5-a8bf-4d2da8c58272",
   "metadata": {},
   "outputs": [],
   "source": [
    "def calc_quick_worst(ms, Q_value, A_value):\n",
    "    return ms * ((A_value / Q_value) ** 2)"
   ]
  },
  {
   "cell_type": "code",
   "execution_count": 4,
   "id": "58a9b725-ad4d-466e-88fe-5c5cb7420644",
   "metadata": {},
   "outputs": [],
   "source": [
    "def calc_select(ms, Q_value, A_value):\n",
    "    return ms * ((A_value / Q_value) ** 2)"
   ]
  },
  {
   "cell_type": "code",
   "execution_count": 5,
   "id": "1c516356-4b23-4a0a-9bf7-3447e1a9183c",
   "metadata": {},
   "outputs": [],
   "source": [
    "def calc_binary(ms, Q_value, A_value):\n",
    "    return ms * (math.log(A_value) / math.log(Q_value))"
   ]
  },
  {
   "cell_type": "code",
   "execution_count": 6,
   "id": "897055fd-193b-4c51-bd2a-09e0796e6a62",
   "metadata": {},
   "outputs": [],
   "source": [
    "def calc_marge(ms, Q_value, A_value):\n",
    "    return  ms * ((A_value / Q_value) * (math.log(A_value) / math.log(Q_value)))"
   ]
  },
  {
   "cell_type": "markdown",
   "id": "b9c65fdc",
   "metadata": {},
   "source": [
    "例 長さ 10000 の整数のリストを選択ソートでソートしたところ、 20ms かかったとする。 この時、長さ 5000 の整数のリストを、同じ選択ソートでソートすると、どの程度の時間がかかると考えられるか。 実行時間が最悪計算量に比例すると仮定し、見積りなさい。\\\n",
    "→この場合、msは20、Q_valueは10000、A_valueは5000をcalc_select(20, 10000, 5000)のように入れる。"
   ]
  },
  {
   "cell_type": "markdown",
   "id": "1f80d08d",
   "metadata": {},
   "source": [
    "### 実行例"
   ]
  },
  {
   "cell_type": "code",
   "execution_count": 7,
   "id": "8e00d659",
   "metadata": {},
   "outputs": [
    {
     "name": "stdout",
     "output_type": "stream",
     "text": [
      "8.0\n"
     ]
    }
   ],
   "source": [
    "print(calc_binary(10,100000,10000)) ## (数字を入力)"
   ]
  }
 ],
 "metadata": {
  "kernelspec": {
   "display_name": ".venv",
   "language": "python",
   "name": "python3"
  },
  "language_info": {
   "codemirror_mode": {
    "name": "ipython",
    "version": 3
   },
   "file_extension": ".py",
   "mimetype": "text/x-python",
   "name": "python",
   "nbconvert_exporter": "python",
   "pygments_lexer": "ipython3",
   "version": "3.12.7"
  }
 },
 "nbformat": 4,
 "nbformat_minor": 5
}
