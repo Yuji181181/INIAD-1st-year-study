{
 "cells": [
  {
   "cell_type": "code",
   "execution_count": 2,
   "metadata": {},
   "outputs": [
    {
     "name": "stdout",
     "output_type": "stream",
     "text": [
      "四捨五入前： 75.0\n",
      "計算結果： 75.0 %\n"
     ]
    }
   ],
   "source": [
    "# 以下の問題を想定したプログラム\n",
    "# \"生成されたコードで上記の文字列をエンコードすると、各文字にnbitずつ割り当てた場合の何%の長さとなるか。\"\n",
    "\n",
    "def nbit_encoding_efficiency(bit, data, round_num):\n",
    "    result = 0\n",
    "    for i in data:\n",
    "        result += (i[1] / 100) * len(i[0])\n",
    "    per = (result / bit) * 100\n",
    "    print(\"四捨五入前：\", per)\n",
    "    return round(per, round_num) \n",
    "\n",
    "# 自分で書き換える部分 =======================================\n",
    "round_num = 5   #小数第何桁目まで表示するか (0で整数表示)\n",
    "bit = 3         #与えられたビット数\n",
    "data = [\n",
    "    # 文字を書く必要はない\n",
    "    #[\"コード\", 出現頻度(%)]\n",
    "    [\"1\",40], ##コードは1問目で生成されたコードを入力、%は問題文の数字を入力\n",
    "    [\"001\",15],  ##問題文の文字列全部使う\n",
    "    [\"00000\",5], \n",
    "    [\"00001\",5],\n",
    "    [\"0001\",10],\n",
    "    [\"01\",25]\n",
    "]\n",
    "# ==========================================================\n",
    "\n",
    "result = nbit_encoding_efficiency(bit, data, round_num)\n",
    "print(f\"計算結果： {result} %\")"
   ]
  },
  {
   "cell_type": "code",
   "execution_count": null,
   "metadata": {},
   "outputs": [],
   "source": []
  }
 ],
 "metadata": {
  "kernelspec": {
   "display_name": "Python 3",
   "language": "python",
   "name": "python3"
  },
  "language_info": {
   "codemirror_mode": {
    "name": "ipython",
    "version": 3
   },
   "file_extension": ".py",
   "mimetype": "text/x-python",
   "name": "python",
   "nbconvert_exporter": "python",
   "pygments_lexer": "ipython3",
   "version": "3.12.8"
  }
 },
 "nbformat": 4,
 "nbformat_minor": 2
}
