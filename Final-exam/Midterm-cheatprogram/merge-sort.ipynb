{
 "cells": [
  {
   "cell_type": "code",
   "execution_count": 3,
   "metadata": {},
   "outputs": [
    {
     "name": "stdout",
     "output_type": "stream",
     "text": [
      "マージソート (merge sort) / O(nlogn))\n",
      "比較回数 1. [4, 9, 7, 3, 5, 2, 8, 1]\n",
      "比較回数 2. [4, 9, 3, 7, 5, 2, 8, 1]\n",
      "比較回数 3. [3, 4, 7, 9, 5, 2, 8, 1]\n",
      "比較回数 4. [3, 4, 7, 9, 2, 5, 8, 1]\n",
      "比較回数 5. [3, 4, 7, 9, 2, 5, 1, 8]\n",
      "比較回数 6. [3, 4, 7, 9, 1, 2, 5, 8]\n",
      "比較回数 7. [1, 2, 3, 4, 5, 7, 8, 9]\n"
     ]
    }
   ],
   "source": [
    "from collections import deque\n",
    "\n",
    "target = [9, 4, 7, 3, 5, 2, 8, 1]  ## ここにソートしたいリストを入力\n",
    "\n",
    "marged = [False] * (len(target) + 1)\n",
    "sque = deque([[0, (len(target) + 1) // 2, len(target)]])\n",
    "mque = deque()\n",
    "print(\"マージソート (merge sort) / O(nlogn))\")\n",
    "while len(sque):\n",
    "    snow = sque.popleft()\n",
    "    tque = deque()\n",
    "\n",
    "    if marged[snow[1]-1] and marged[snow[2]-1]:\n",
    "        mque.append(snow)\n",
    "        continue\n",
    "    else:\n",
    "        tque.append(snow)\n",
    "\n",
    "    if (snow[2] - snow[1]) < 2:\n",
    "        marged[snow[1]] = True\n",
    "    else:\n",
    "        tque.appendleft([snow[1], snow[1] + (snow[2] - snow[1] + 1) // 2, snow[2]])        \n",
    "\n",
    "    if (snow[1] - snow[0]) < 2:\n",
    "        marged[snow[0]] = True\n",
    "    \n",
    "    else:\n",
    "        tque.appendleft([snow[0], snow[0] + (snow[1] - snow[0] + 1) // 2, snow[1]])   \n",
    "    \n",
    "    for _ in range(len(tque)):\n",
    "        s = tque.pop()\n",
    "        sque.appendleft(s)\n",
    "\n",
    "count = 0\n",
    "while len(mque):\n",
    "    count += 1\n",
    "    now = mque.popleft()\n",
    "    t_left = target[now[0]:now[1]]\n",
    "    t_right = target[now[1]:now[2]]\n",
    "    tl = []\n",
    "    j = 0\n",
    "    for i in range(len(t_left)):\n",
    "        for j in range(j, len(t_right)):\n",
    "            if t_left[i] <= t_right[j]:\n",
    "                break\n",
    "            \n",
    "            else:\n",
    "                tl.append(t_right[j])\n",
    "                j += 1\n",
    "\n",
    "        tl.append(t_left[i])\n",
    "    \n",
    "    for j in range(j, len(t_right)):\n",
    "        tl.append(t_right[j])\n",
    "        \n",
    "    target = target[:now[0]] + tl + target[now[2]:]\n",
    "    print(\"比較回数 {}. [{}]\".format(count, \", \".join(map(str, target))))"
   ]
  }
 ],
 "metadata": {
  "kernelspec": {
   "display_name": ".venv",
   "language": "python",
   "name": "python3"
  },
  "language_info": {
   "codemirror_mode": {
    "name": "ipython",
    "version": 3
   },
   "file_extension": ".py",
   "mimetype": "text/x-python",
   "name": "python",
   "nbconvert_exporter": "python",
   "pygments_lexer": "ipython3",
   "version": "3.12.7"
  }
 },
 "nbformat": 4,
 "nbformat_minor": 2
}
