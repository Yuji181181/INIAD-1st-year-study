{
 "cells": [
  {
   "cell_type": "markdown",
   "metadata": {},
   "source": [
    "## マイグレーション\n",
    "#### マイグレーションとは\n",
    "- 「移行」という意味合い\n",
    "- Djangoではwebappの機能をバージョンアップする際、データベースのテーブルを更新する仕組みが提供される。これを「マイグレーション」と呼ぶ\n",
    "- まずModelのファイルを変更する\n",
    "    - 変更の終了後いつものコマンドを実行することで、データベースの更新が行われる\n",
    "\n",
    "#### Djangoにおけるマイグレーション\n",
    "- models.pyに必要なデータ構造を追記し、マイグレーションによりデータベースを更新する\n",
    "\n",
    "![マイグレーションのイメージ](images\\マイグレーション.png)\n",
    "\n",
    "#### マイグレーションの手順\n",
    "- 1.仮想環境の有効化\n",
    "- 2.マイグレーションの実行\n",
    "    - python manage.py makemigrations\n",
    "    - python manage.py migrate\n",
    "\n",
    "![マイグレーションの手順のイメージ](images\\マイグレーションの手順.png)\n",
    "\n",
    "#### DB Browserでテーブルができているか確認しよう\n",
    "\n",
    "![DBbrowserで確認１のイメージ](images\\DBBrowserで確認１.png)\n",
    "\n",
    "![DBbrowserで確認２のイメージ](images\\DBBrowserで確認２.png)"
   ]
  }
 ],
 "metadata": {
  "language_info": {
   "name": "python"
  }
 },
 "nbformat": 4,
 "nbformat_minor": 2
}
