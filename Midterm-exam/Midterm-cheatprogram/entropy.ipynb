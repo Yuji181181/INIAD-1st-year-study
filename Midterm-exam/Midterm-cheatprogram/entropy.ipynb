{
 "cells": [
  {
   "cell_type": "code",
   "execution_count": 1,
   "metadata": {},
   "outputs": [],
   "source": [
    "import math\n",
    "\n",
    "def calc_infovalue(p):\n",
    "    return -1 * math.log2(p)\n",
    "\n",
    "def entropy(lst):\n",
    "    return -sum(x * math.log2(x) for x in lst)"
   ]
  },
  {
   "cell_type": "markdown",
   "metadata": {},
   "source": [
    "例 晴れが1/2、曇りが1/4、雨が1/4のときの情報エントロピーを求めなさい\\\n",
    "→この場合entropy([1/2, 1/4, 1/4])のように入れる。"
   ]
  },
  {
   "cell_type": "markdown",
   "metadata": {},
   "source": [
    "### 実行例"
   ]
  },
  {
   "cell_type": "code",
   "execution_count": 2,
   "metadata": {},
   "outputs": [
    {
     "name": "stdout",
     "output_type": "stream",
     "text": [
      "3.0\n"
     ]
    }
   ],
   "source": [
    "print(entropy([1/8,1/8,1/8,1/8,1/8,1/8,1/8,1/8])) ##ここに確率を入力"
   ]
  }
 ],
 "metadata": {
  "kernelspec": {
   "display_name": ".venv",
   "language": "python",
   "name": "python3"
  },
  "language_info": {
   "codemirror_mode": {
    "name": "ipython",
    "version": 3
   },
   "file_extension": ".py",
   "mimetype": "text/x-python",
   "name": "python",
   "nbconvert_exporter": "python",
   "pygments_lexer": "ipython3",
   "version": "3.12.7"
  }
 },
 "nbformat": 4,
 "nbformat_minor": 2
}
