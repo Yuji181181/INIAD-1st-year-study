{
 "cells": [
  {
   "cell_type": "code",
   "execution_count": null,
   "metadata": {},
   "outputs": [],
   "source": [
    "from collections import deque\n",
    "target = [7, 3, 8, 1, 2, 6, 4, 5]\n",
    "count = 0\n",
    "que = deque([[0, len(target)]])\n",
    "print(\"簡易版クイックソート (quick sort) / O(nlogn) ~ O(n^2)\")\n",
    "while len(que):\n",
    "    count += 1\n",
    "    q = que.popleft()\n",
    "    if q[0] == q[1]:\n",
    "        continue\n",
    "\n",
    "    pivot = target[q[0]]\n",
    "    lst1 = [x for x in target[q[0]:q[1]] if x < pivot]\n",
    "    lst2 = [x for x in target[q[0]:q[1]] if x == pivot]\n",
    "    lst3 = [x for x in target[q[0]:q[1]] if x > pivot]\n",
    "    target = target[:q[0]] + lst1 + lst2 + lst3 + target[q[1]:]\n",
    "\n",
    "    if 1 < len(lst1): que.append([q[0], q[0] + len(lst1)])\n",
    "    if 1 < len(lst2): que.append([q[0] + len(lst1), q[0] + len(lst1) + len(lst2)])\n",
    "    if 1 < len(lst3): que.append([q[0] + len(lst1) + len(lst2), q[1]])\n",
    "\n",
    "    print(\"Loop {}. [{}]\".format(count, \", \".join(map(str, target))), \"pivot.\", pivot)"
   ]
  }
 ],
 "metadata": {
  "language_info": {
   "name": "python"
  }
 },
 "nbformat": 4,
 "nbformat_minor": 2
}
