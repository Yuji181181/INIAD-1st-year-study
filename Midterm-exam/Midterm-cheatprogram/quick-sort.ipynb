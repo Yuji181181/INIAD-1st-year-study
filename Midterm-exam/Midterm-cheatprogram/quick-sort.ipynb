{
 "cells": [
  {
   "cell_type": "code",
   "execution_count": 2,
   "metadata": {},
   "outputs": [
    {
     "name": "stdout",
     "output_type": "stream",
     "text": [
      "簡易版クイックソート (quick sort) / O(nlogn) ~ O(n^2)\n",
      "比較回数 1. [3, 1, 2, 6, 4, 5, 7, 8] pivot. 7\n",
      "比較回数 2. [1, 2, 3, 6, 4, 5, 7, 8] pivot. 3\n",
      "比較回数 3. [1, 2, 3, 6, 4, 5, 7, 8] pivot. 1\n",
      "比較回数 4. [1, 2, 3, 4, 5, 6, 7, 8] pivot. 6\n",
      "比較回数 5. [1, 2, 3, 4, 5, 6, 7, 8] pivot. 4\n"
     ]
    }
   ],
   "source": [
    "from collections import deque\n",
    "\n",
    "target = [7, 3, 8, 1, 2, 6, 4, 5]  ## ここにソートしたいリストを入力\n",
    "\n",
    "count = 0\n",
    "que = deque([[0, len(target)]])\n",
    "print(\"簡易版クイックソート (quick sort) / O(nlogn) ~ O(n^2)\")\n",
    "while len(que):\n",
    "    count += 1\n",
    "    q = que.popleft()\n",
    "    if q[0] == q[1]:\n",
    "        continue\n",
    "\n",
    "    pivot = target[q[0]]\n",
    "    lst1 = [x for x in target[q[0]:q[1]] if x < pivot]\n",
    "    lst2 = [x for x in target[q[0]:q[1]] if x == pivot]\n",
    "    lst3 = [x for x in target[q[0]:q[1]] if x > pivot]\n",
    "    target = target[:q[0]] + lst1 + lst2 + lst3 + target[q[1]:]\n",
    "\n",
    "    if 1 < len(lst1): que.append([q[0], q[0] + len(lst1)])\n",
    "    if 1 < len(lst2): que.append([q[0] + len(lst1), q[0] + len(lst1) + len(lst2)])\n",
    "    if 1 < len(lst3): que.append([q[0] + len(lst1) + len(lst2), q[1]])\n",
    "\n",
    "    print(\"比較回数 {}. [{}]\".format(count, \", \".join(map(str, target))), \"pivot.\", pivot)"
   ]
  }
 ],
 "metadata": {
  "kernelspec": {
   "display_name": ".venv",
   "language": "python",
   "name": "python3"
  },
  "language_info": {
   "codemirror_mode": {
    "name": "ipython",
    "version": 3
   },
   "file_extension": ".py",
   "mimetype": "text/x-python",
   "name": "python",
   "nbconvert_exporter": "python",
   "pygments_lexer": "ipython3",
   "version": "3.12.7"
  }
 },
 "nbformat": 4,
 "nbformat_minor": 2
}
