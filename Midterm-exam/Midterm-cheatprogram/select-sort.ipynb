{
 "cells": [
  {
   "cell_type": "code",
   "execution_count": null,
   "metadata": {},
   "outputs": [],
   "source": [
    "# 選択ソート\n",
    "target = [3,2,5,1,4]\n",
    "\n",
    "def selection_sort_show(lst):\n",
    "    print(\"選択ソート (selection sort) / O(n^2) ~ O(n^2)\")\n",
    "    for i in range(len(lst)):\n",
    "        tmin, tloc = 10 ** 18, -1 # データの初期化\n",
    "        for j in range(i, len(lst)):\n",
    "\n",
    "            # 現在の最小値より小さい値が見つかったとき\n",
    "            # 最も小さい値とその場所を更新する\n",
    "            if lst[j] < tmin:\n",
    "                tmin = lst[j]\n",
    "                tloc = j\n",
    "        \n",
    "        # ループが終了したら入れ替える\n",
    "        lst[i], lst[tloc] = lst[tloc], lst[i]\n",
    "        print(\"loop {}. {}\".format(str(i + 1).zfill(2), lst))\n",
    "\n",
    "selection_sort_show(target)"
   ]
  }
 ],
 "metadata": {
  "language_info": {
   "name": "python"
  }
 },
 "nbformat": 4,
 "nbformat_minor": 2
}
