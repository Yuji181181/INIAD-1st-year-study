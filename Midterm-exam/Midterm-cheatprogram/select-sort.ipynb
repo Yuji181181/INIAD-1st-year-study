{
 "cells": [
  {
   "cell_type": "code",
   "execution_count": 3,
   "metadata": {},
   "outputs": [],
   "source": [
    "target = [3,2,5,1,4]  ## ここにソートしたいリストを入力"
   ]
  },
  {
   "cell_type": "code",
   "execution_count": 4,
   "metadata": {},
   "outputs": [
    {
     "name": "stdout",
     "output_type": "stream",
     "text": [
      "選択ソート (selection sort) / O(n^2) ~ O(n^2)\n",
      "比較回数 01. [1, 2, 5, 3, 4]\n",
      "比較回数 02. [1, 2, 5, 3, 4]\n",
      "比較回数 03. [1, 2, 3, 5, 4]\n",
      "比較回数 04. [1, 2, 3, 4, 5]\n",
      "比較回数 05. [1, 2, 3, 4, 5]\n"
     ]
    }
   ],
   "source": [
    "def selection_sort_show(lst):\n",
    "    print(\"選択ソート (selection sort) / O(n^2) ~ O(n^2)\")\n",
    "    for i in range(len(lst)):\n",
    "        tmin, tloc = 10 ** 18, -1 # データの初期化\n",
    "        for j in range(i, len(lst)):\n",
    "\n",
    "            # 現在の最小値より小さい値が見つかったとき\n",
    "            # 最も小さい値とその場所を更新する\n",
    "            if lst[j] < tmin:\n",
    "                tmin = lst[j]\n",
    "                tloc = j\n",
    "        \n",
    "        # ループが終了したら入れ替える\n",
    "        lst[i], lst[tloc] = lst[tloc], lst[i]\n",
    "        print(\"比較回数 {}. {}\".format(str(i + 1).zfill(2), lst))\n",
    "\n",
    "selection_sort_show(target)"
   ]
  }
 ],
 "metadata": {
  "kernelspec": {
   "display_name": ".venv",
   "language": "python",
   "name": "python3"
  },
  "language_info": {
   "codemirror_mode": {
    "name": "ipython",
    "version": 3
   },
   "file_extension": ".py",
   "mimetype": "text/x-python",
   "name": "python",
   "nbconvert_exporter": "python",
   "pygments_lexer": "ipython3",
   "version": "3.12.7"
  }
 },
 "nbformat": 4,
 "nbformat_minor": 2
}
