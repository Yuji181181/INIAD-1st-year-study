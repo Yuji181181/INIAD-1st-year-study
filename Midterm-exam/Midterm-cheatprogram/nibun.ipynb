{
 "cells": [
  {
   "cell_type": "code",
   "execution_count": 1,
   "metadata": {},
   "outputs": [],
   "source": [
    "def binary_search(lst, x):\n",
    "    start = 0\n",
    "    end = len(lst)\n",
    "    comparisons = [] \n",
    "    count = 0         \n",
    "    if x not in lst:\n",
    "        print(\"対象の数字が見つかりません。\")\n",
    "        return\n",
    "    while start < end:\n",
    "        mid = start + (end - start) // 2\n",
    "        comparisons.append(lst[mid])\n",
    "        count += 1 \n",
    "\n",
    "        if x > lst[mid]:\n",
    "            start = mid + 1\n",
    "        elif x < lst[mid]:\n",
    "            end = mid\n",
    "        else:\n",
    "            print(\"対象の数字が見つかりました。\")\n",
    "            print(\"比較した数字の列:\", comparisons)\n",
    "            print(\"比較回数:\", count)\n",
    "            return"
   ]
  },
  {
   "cell_type": "code",
   "execution_count": 2,
   "metadata": {},
   "outputs": [],
   "source": [
    "sorted_list = [2, 5, 12, 24, 31, 38, 43, 48, 57, 69, 88, 93, 99]  ## ソート済みのリストを入力\n",
    "target = 31  ## 検索したい数字を入力    "
   ]
  },
  {
   "cell_type": "code",
   "execution_count": 3,
   "metadata": {},
   "outputs": [
    {
     "name": "stdout",
     "output_type": "stream",
     "text": [
      "対象の数字が見つかりました。\n",
      "比較した数字の列: [43, 24, 38, 31]\n",
      "比較回数: 4\n"
     ]
    }
   ],
   "source": [
    "binary_search(sorted_list, target)"
   ]
  }
 ],
 "metadata": {
  "kernelspec": {
   "display_name": ".venv",
   "language": "python",
   "name": "python3"
  },
  "language_info": {
   "codemirror_mode": {
    "name": "ipython",
    "version": 3
   },
   "file_extension": ".py",
   "mimetype": "text/x-python",
   "name": "python",
   "nbconvert_exporter": "python",
   "pygments_lexer": "ipython3",
   "version": "3.12.7"
  }
 },
 "nbformat": 4,
 "nbformat_minor": 2
}
