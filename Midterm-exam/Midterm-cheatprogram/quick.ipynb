{
 "cells": [
  {
   "cell_type": "code",
   "execution_count": 4,
   "metadata": {},
   "outputs": [
    {
     "name": "stdout",
     "output_type": "stream",
     "text": [
      "クイックソート (quick sort) / O(nlogn) ~ O(n^2)\n",
      "分割回数 1. [1, 3, 8, 2, 9, 7, 4, 6, 5] pivot: 1\n",
      "分割回数 2. [1, 3, 2, 4, 6, 5, 7, 8, 9] pivot: 7\n",
      "分割回数 3. [1, 3, 2, 4, 6, 5, 7, 8, 9] pivot: 4\n",
      "分割回数 4. [1, 3, 2, 4, 6, 5, 7, 8, 9] pivot: 9\n",
      "分割回数 5. [1, 2, 3, 4, 6, 5, 7, 8, 9] pivot: 2\n",
      "分割回数 6. [1, 2, 3, 4, 5, 6, 7, 8, 9] pivot: 5\n"
     ]
    }
   ],
   "source": [
    "from collections import deque\n",
    "\n",
    "target = [3,8,2,9,1,7,4,6,5]  # ここにソートしたいリストを入力\n",
    "\n",
    "def get_pivot_index(arr, start, end, method='first', pivot_choice='front'):\n",
    "    if method == 'first':\n",
    "        return start\n",
    "    elif method == 'last':\n",
    "        return end - 1\n",
    "    elif method == 'middle':\n",
    "        mid = (start + end) // 2\n",
    "        if (end - start) % 2 == 0: \n",
    "            if pivot_choice == 'front':\n",
    "                return mid - 1  \n",
    "            elif pivot_choice == 'back':\n",
    "                return mid  \n",
    "        return mid\n",
    "    elif method == 'random':\n",
    "        import random\n",
    "        return random.randint(start, end - 1)\n",
    "    return start \n",
    "\n",
    "count = 0\n",
    "que = deque([[0, len(target)]])\n",
    "\n",
    "pivot_method = 'middle'  ## pivotの選択（'first', 'last', 'middle', 'random'）\n",
    "pivot_choice = 'back'    ## pivotが中間かつ偶数の場合のpivot選択（'front'または'back'）\n",
    "\n",
    "print(\"クイックソート (quick sort) / O(nlogn) ~ O(n^2)\")\n",
    "while len(que):\n",
    "    count += 1\n",
    "    q = que.popleft()\n",
    "    if q[0] == q[1]:\n",
    "        continue\n",
    "\n",
    "    pivot_idx = get_pivot_index(target, q[0], q[1], pivot_method, pivot_choice)\n",
    "    pivot = target[pivot_idx]\n",
    "    \n",
    "    lst1 = [x for x in target[q[0]:q[1]] if x < pivot]\n",
    "    lst2 = [x for x in target[q[0]:q[1]] if x == pivot]\n",
    "    lst3 = [x for x in target[q[0]:q[1]] if x > pivot]\n",
    "    target = target[:q[0]] + lst1 + lst2 + lst3 + target[q[1]:]\n",
    "\n",
    "    if 1 < len(lst1): que.append([q[0], q[0] + len(lst1)])\n",
    "    if 1 < len(lst2): que.append([q[0] + len(lst1), q[0] + len(lst1) + len(lst2)])\n",
    "    if 1 < len(lst3): que.append([q[0] + len(lst1) + len(lst2), q[1]])\n",
    "\n",
    "    print(\"分割回数 {}. [{}]\".format(count, \", \".join(map(str, target))), \"pivot:\", pivot)"
   ]
  }
 ],
 "metadata": {
  "kernelspec": {
   "display_name": ".venv",
   "language": "python",
   "name": "python3"
  },
  "language_info": {
   "codemirror_mode": {
    "name": "ipython",
    "version": 3
   },
   "file_extension": ".py",
   "mimetype": "text/x-python",
   "name": "python",
   "nbconvert_exporter": "python",
   "pygments_lexer": "ipython3",
   "version": "3.12.7"
  }
 },
 "nbformat": 4,
 "nbformat_minor": 2
}
