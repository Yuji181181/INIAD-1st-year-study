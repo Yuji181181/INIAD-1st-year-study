{
 "cells": [
  {
   "cell_type": "code",
   "execution_count": 1,
   "metadata": {},
   "outputs": [
    {
     "data": {
      "text/plain": [
       "'huffman_tree.png'"
      ]
     },
     "execution_count": 1,
     "metadata": {},
     "output_type": "execute_result"
    }
   ],
   "source": [
    "# ハフマンコードを作成する際に用いる木を描画するシステム\n",
    "# Jupyter環境での使用を推奨: (!pip install graphviz)\n",
    "# 使用するためにはPCにGraphvizのインストールが必須である\n",
    "# 数行下のパスは個人で指定する\n",
    "# \n",
    "# 使い方:\n",
    "# 下の方にある frequencies の中にそれぞれの確率を少数で書き込む\n",
    "import heapq\n",
    "from collections import defaultdict\n",
    "from graphviz import Digraph\n",
    "import os\n",
    "# Graphvizのインストールディレクトリを指定\n",
    "os.environ[\"PATH\"] += os.pathsep + r'C:\\Program Files\\Graphviz\\bin'\n",
    "class Node:\n",
    "    def __init__(self, char, freq):\n",
    "        self.char = char\n",
    "        self.freq = freq\n",
    "        self.left = None\n",
    "        self.right = None\n",
    "    \n",
    "    def __lt__(self, other):\n",
    "        return self.freq < other.freq\n",
    "def build_huffman_tree(frequencies):\n",
    "    heap = [Node(char, freq) for char, freq in frequencies.items()]\n",
    "    heapq.heapify(heap)\n",
    "    while len(heap) > 1:\n",
    "        left = heapq.heappop(heap)\n",
    "        right = heapq.heappop(heap)\n",
    "        merged = Node(None, left.freq + right.freq)\n",
    "        merged.left = left\n",
    "        merged.right = right\n",
    "        heapq.heappush(heap, merged)\n",
    "    return heap[0]\n",
    "def generate_codes(node, prefix=\"\", codebook={}):\n",
    "    if node is not None:\n",
    "        if node.char is not None:\n",
    "            codebook[node.char] = prefix\n",
    "        generate_codes(node.left, prefix + \"0\", codebook)\n",
    "        generate_codes(node.right, prefix + \"1\", codebook)\n",
    "    return codebook\n",
    "def visualize_huffman_tree(node, graph=None):\n",
    "    if graph is None:\n",
    "        graph = Digraph()\n",
    "    if node.char is not None:\n",
    "        graph.node(str(id(node)), label=f\"{node.char}:{node.freq}\")\n",
    "    else:\n",
    "        graph.node(str(id(node)), label=str(node.freq))\n",
    "    if node.left is not None:\n",
    "        graph.edge(str(id(node)), str(id(node.left)), label=\"0\")\n",
    "        visualize_huffman_tree(node.left, graph)\n",
    "    if node.right is not None:\n",
    "        graph.edge(str(id(node)), str(id(node.right)), label=\"1\")\n",
    "        visualize_huffman_tree(node.right, graph)\n",
    "    return graph\n",
    "frequencies = {\n",
    "    'A': 0.40,\n",
    "    'D': 0.15,\n",
    "    'H': 0.05,\n",
    "    'N': 0.05,\n",
    "    'P': 0.10,\n",
    "    'R': 0.25,\n",
    "}\n",
    "huffman_tree = build_huffman_tree(frequencies)\n",
    "codes = generate_codes(huffman_tree)\n",
    "tree_graph = visualize_huffman_tree(huffman_tree)\n",
    "tree_graph.render('huffman_tree', view=True, format='png')"
   ]
  }
 ],
 "metadata": {
  "kernelspec": {
   "display_name": ".venv",
   "language": "python",
   "name": "python3"
  },
  "language_info": {
   "codemirror_mode": {
    "name": "ipython",
    "version": 3
   },
   "file_extension": ".py",
   "mimetype": "text/x-python",
   "name": "python",
   "nbconvert_exporter": "python",
   "pygments_lexer": "ipython3",
   "version": "3.12.3"
  }
 },
 "nbformat": 4,
 "nbformat_minor": 2
}
