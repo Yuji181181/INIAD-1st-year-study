{
 "cells": [
  {
   "cell_type": "code",
   "execution_count": 1,
   "metadata": {},
   "outputs": [
    {
     "name": "stdout",
     "output_type": "stream",
     "text": [
      "簡易版クイックソート (quick sort) / O(nlogn) ~ O(n^2)\n",
      "比較回数: 1, 分割回数: 1\n",
      "現在の配列: [1, 3, 8, 2, 9, 7, 4, 6, 5] pivot: 1\n",
      "--------------------------------------------------\n",
      "比較回数: 2, 分割回数: 2\n",
      "現在の配列: [1, 3, 8, 2, 7, 4, 6, 5, 9] pivot: 9\n",
      "--------------------------------------------------\n",
      "比較回数: 3, 分割回数: 3\n",
      "現在の配列: [1, 3, 2, 4, 6, 5, 7, 8, 9] pivot: 7\n",
      "--------------------------------------------------\n",
      "比較回数: 4, 分割回数: 4\n",
      "現在の配列: [1, 3, 2, 4, 6, 5, 7, 8, 9] pivot: 4\n",
      "--------------------------------------------------\n",
      "比較回数: 5, 分割回数: 5\n",
      "現在の配列: [1, 2, 3, 4, 6, 5, 7, 8, 9] pivot: 3\n",
      "--------------------------------------------------\n",
      "比較回数: 6, 分割回数: 6\n",
      "現在の配列: [1, 2, 3, 4, 5, 6, 7, 8, 9] pivot: 6\n",
      "--------------------------------------------------\n"
     ]
    }
   ],
   "source": [
    "from collections import deque\n",
    "\n",
    "target = [3,8,2,9,1,7,4,6,5]  ## ここにソートしたいリストを入力\n",
    "\n",
    "def get_pivot_index(arr, start, end, method='first', middle_preference='lower'):\n",
    "    if method == 'first':\n",
    "        return start\n",
    "    elif method == 'last':\n",
    "        return end - 1\n",
    "    elif method == 'middle':\n",
    "        # 要素数が偶数の場合の処理\n",
    "        if (end - start) % 2 == 0:\n",
    "            mid = (start + end) // 2\n",
    "            # 'lower'なら中間の2つの値のうち前半側、'upper'なら後半側を選択\n",
    "            return mid - 1 if middle_preference == 'lower' else mid\n",
    "        else:\n",
    "            return (start + end) // 2\n",
    "    elif method == 'random':\n",
    "        import random\n",
    "        return random.randint(start, end - 1)\n",
    "    return start\n",
    "\n",
    "count = 0  # 比較回数\n",
    "partition_count = 0  # 分割回数\n",
    "que = deque([[0, len(target)]])\n",
    "# pivotの選択方法を指定（'first', 'last', 'middle', 'random'のいずれか）\n",
    "pivot_method = 'middle'\n",
    "# 偶数個の要素がある場合の中間値の選び方（'lower' または 'upper'）\n",
    "middle_preference = 'lower'\n",
    "\n",
    "print(\"簡易版クイックソート (quick sort) / O(nlogn) ~ O(n^2)\")\n",
    "while len(que):\n",
    "    count += 1\n",
    "    q = que.popleft()\n",
    "    if q[0] == q[1]:\n",
    "        continue\n",
    "\n",
    "    # pivotのインデックスを選択方法に基づいて取得\n",
    "    pivot_idx = get_pivot_index(target, q[0], q[1], pivot_method, middle_preference)\n",
    "    pivot = target[pivot_idx]\n",
    "    \n",
    "    lst1 = [x for x in target[q[0]:q[1]] if x < pivot]\n",
    "    lst2 = [x for x in target[q[0]:q[1]] if x == pivot]\n",
    "    lst3 = [x for x in target[q[0]:q[1]] if x > pivot]\n",
    "    target = target[:q[0]] + lst1 + lst2 + lst3 + target[q[1]:]\n",
    "\n",
    "    # 新しい部分リストが作成された場合（実際に分割が行われた場合）のみ分割回数を増やす\n",
    "    if len(lst1) > 0 or len(lst3) > 0:\n",
    "        partition_count += 1\n",
    "\n",
    "    if 1 < len(lst1): que.append([q[0], q[0] + len(lst1)])\n",
    "    if 1 < len(lst2): que.append([q[0] + len(lst1), q[0] + len(lst1) + len(lst2)])\n",
    "    if 1 < len(lst3): que.append([q[0] + len(lst1) + len(lst2), q[1]])\n",
    "\n",
    "    print(\"比較回数: {}, 分割回数: {}\".format(count, partition_count))\n",
    "    print(\"現在の配列: [{}]\".format(\", \".join(map(str, target))), \"pivot:\", pivot)\n",
    "    print(\"-\" * 50)"
   ]
  }
 ],
 "metadata": {
  "kernelspec": {
   "display_name": ".venv",
   "language": "python",
   "name": "python3"
  },
  "language_info": {
   "codemirror_mode": {
    "name": "ipython",
    "version": 3
   },
   "file_extension": ".py",
   "mimetype": "text/x-python",
   "name": "python",
   "nbconvert_exporter": "python",
   "pygments_lexer": "ipython3",
   "version": "3.12.7"
  }
 },
 "nbformat": 4,
 "nbformat_minor": 2
}
